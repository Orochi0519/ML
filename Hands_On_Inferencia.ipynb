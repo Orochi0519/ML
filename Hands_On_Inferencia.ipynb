{
  "nbformat": 4,
  "nbformat_minor": 0,
  "metadata": {
    "kernelspec": {
      "display_name": "Python 3",
      "language": "python",
      "name": "python3"
    },
    "language_info": {
      "codemirror_mode": {
        "name": "ipython",
        "version": 3
      },
      "file_extension": ".py",
      "mimetype": "text/x-python",
      "name": "python",
      "nbconvert_exporter": "python",
      "pygments_lexer": "ipython3",
      "version": "3.8.5"
    },
    "colab": {
      "provenance": [],
      "include_colab_link": true
    }
  },
  "cells": [
    {
      "cell_type": "markdown",
      "metadata": {
        "id": "view-in-github",
        "colab_type": "text"
      },
      "source": [
        "<a href=\"https://colab.research.google.com/github/Orochi0519/ML/blob/Class-notes/Hands_On_Inferencia.ipynb\" target=\"_parent\"><img src=\"https://colab.research.google.com/assets/colab-badge.svg\" alt=\"Open In Colab\"/></a>"
      ]
    },
    {
      "cell_type": "markdown",
      "metadata": {
        "id": "vuJJfZ_PXUD9"
      },
      "source": [
        "# Introducción a la inferencia\n",
        "\n"
      ]
    },
    {
      "cell_type": "markdown",
      "metadata": {
        "id": "8xwR3sjdXUEC"
      },
      "source": [
        "En la lección anterior conocimos las métricas estadísticas comúnmente empleadas para determinar variabilidad y relación entre variables.\n",
        "En esta lección, nos enfocaremos en aquellas que podemos emplear sobre distribuciones y cómo probar hipótesis."
      ]
    },
    {
      "cell_type": "markdown",
      "metadata": {
        "id": "b09EpgNAXUEE"
      },
      "source": [
        "\n",
        "\n",
        "```\n",
        "# Esto tiene formato de código\n",
        "```\n",
        "\n",
        "## Cargando nuestros módulos"
      ]
    },
    {
      "cell_type": "code",
      "source": [],
      "metadata": {
        "id": "CbPGDamieoNx"
      },
      "execution_count": null,
      "outputs": []
    },
    {
      "cell_type": "code",
      "source": [
        "import pandas as pd\n",
        "import numpy as np\n",
        "import seaborn as sns\n",
        "import matplotlib.pyplot as plt\n",
        "import scipy.stats as stats\n"
      ],
      "metadata": {
        "id": "7edsdl6fdH8_"
      },
      "execution_count": null,
      "outputs": []
    },
    {
      "cell_type": "code",
      "source": [
        "import scipy.stats as stats\n",
        "import scipy.stats.distributions as dist\n",
        "import statsmodels.api as sm\n",
        "from collections import Counter\n"
      ],
      "metadata": {
        "id": "kWRuYbMifQam"
      },
      "execution_count": null,
      "outputs": []
    },
    {
      "cell_type": "markdown",
      "metadata": {
        "id": "wgE-oTjmV9Pz"
      },
      "source": [
        "## Intervalos de confianza"
      ]
    },
    {
      "cell_type": "code",
      "source": [
        "data1 = [12, 12, 13, 13, 15, 16, 17, 22, 23, 25, 26, 27, 28, 28, 29]\n",
        "data2 = [12, 13, 13, 14, 15, 16, 19, 22, 23, 24, 27, 27, 28, 29, 29]\n",
        "len(data1)"
      ],
      "metadata": {
        "id": "gkyU0e4DdJLH",
        "colab": {
          "base_uri": "https://localhost:8080/"
        },
        "outputId": "5f09f434-321d-4100-81d7-4f95d8b835b9"
      },
      "execution_count": null,
      "outputs": [
        {
          "output_type": "execute_result",
          "data": {
            "text/plain": [
              "15"
            ]
          },
          "metadata": {},
          "execution_count": 8
        }
      ]
    },
    {
      "cell_type": "markdown",
      "metadata": {
        "id": "lUb0HwYjV9Pz"
      },
      "source": [
        "### Intervalos de confianza utilizando la distribución t\n",
        "\n"
      ]
    },
    {
      "cell_type": "markdown",
      "metadata": {
        "id": "gcBA_dZMV9P1"
      },
      "source": [
        "![image.png](data:image/png;base64,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)"
      ]
    },
    {
      "cell_type": "markdown",
      "metadata": {
        "id": "VFTWenb8V9P2"
      },
      "source": [
        "[Explicacion de las distribuciones Z y T](https://medium.com/statistical-guess/t-interval-t-statistics-f45590e1367d)"
      ]
    },
    {
      "cell_type": "markdown",
      "source": [
        "Calculamos el intervalo de confianza del 95% para la media de la estatura de la población.\n",
        "\n",
        "La función stats.sem es utilizada para calcular el error estándar de la media de los datos ingresados."
      ],
      "metadata": {
        "id": "R-svHPq5YRNJ"
      }
    },
    {
      "cell_type": "code",
      "source": [
        "stats.t"
      ],
      "metadata": {
        "id": "mOl7_lbtdK4P",
        "colab": {
          "base_uri": "https://localhost:8080/"
        },
        "outputId": "3534f53a-931e-4701-f6c7-051b2ffbcdb0"
      },
      "execution_count": null,
      "outputs": [
        {
          "output_type": "execute_result",
          "data": {
            "text/plain": [
              "<scipy.stats._continuous_distns.t_gen at 0x7f362cb11a10>"
            ]
          },
          "metadata": {},
          "execution_count": 7
        }
      ]
    },
    {
      "cell_type": "code",
      "source": [
        "stats.t.interval(alpha = 0.95,\n",
        "                 df = len(data1)-1,\n",
        "                 loc = np.mean(data1),\n",
        "                 scale = stats.sem(data1),\n",
        "                 )"
      ],
      "metadata": {
        "colab": {
          "base_uri": "https://localhost:8080/"
        },
        "id": "AE2VcOnWf2BP",
        "outputId": "a6d7f8b5-6a0d-4dfe-cab4-74f2207943f7"
      },
      "execution_count": null,
      "outputs": [
        {
          "output_type": "execute_result",
          "data": {
            "text/plain": [
              "(16.75776979778498, 24.042230202215016)"
            ]
          },
          "metadata": {},
          "execution_count": 12
        }
      ]
    },
    {
      "cell_type": "code",
      "source": [
        "np.mean(data1)"
      ],
      "metadata": {
        "colab": {
          "base_uri": "https://localhost:8080/"
        },
        "id": "17p5CuyAhXFi",
        "outputId": "0c548d81-3262-4506-97d8-0e0f1ad3514e"
      },
      "execution_count": null,
      "outputs": [
        {
          "output_type": "execute_result",
          "data": {
            "text/plain": [
              "20.4"
            ]
          },
          "metadata": {},
          "execution_count": 13
        }
      ]
    },
    {
      "cell_type": "markdown",
      "source": [
        "Calculamos el intervalor de confianza (CI) 99% para la misma muestra"
      ],
      "metadata": {
        "id": "YxHadh6GZfCh"
      }
    },
    {
      "cell_type": "code",
      "source": [
        "stats.t.interval(alpha = 0.99,\n",
        "                 df = len(data1)-1,\n",
        "                 loc = np.mean(data1),\n",
        "                 scale = stats.sem(data1),\n",
        "                 )"
      ],
      "metadata": {
        "id": "QvFZmNUFdMTP",
        "colab": {
          "base_uri": "https://localhost:8080/"
        },
        "outputId": "3bae922e-467b-49f0-e983-a5ac8b205571"
      },
      "execution_count": null,
      "outputs": [
        {
          "output_type": "execute_result",
          "data": {
            "text/plain": [
              "(15.3447902793728, 25.455209720627195)"
            ]
          },
          "metadata": {},
          "execution_count": 14
        }
      ]
    },
    {
      "cell_type": "code",
      "source": [
        "stats.t.interval(alpha = 0.95,\n",
        "                 df = len(data2)-1,\n",
        "                 loc = np.mean(data2),\n",
        "                 scale = stats.sem(data2),\n",
        "                 )"
      ],
      "metadata": {
        "colab": {
          "base_uri": "https://localhost:8080/"
        },
        "id": "bdpuyhRRhwS4",
        "outputId": "a36d5708-cc24-42a1-fabd-4a3d8d74b3d3"
      },
      "execution_count": null,
      "outputs": [
        {
          "output_type": "execute_result",
          "data": {
            "text/plain": [
              "(17.153789840921917, 24.312876825744752)"
            ]
          },
          "metadata": {},
          "execution_count": 16
        }
      ]
    },
    {
      "cell_type": "code",
      "source": [
        "stats.t.interval(alpha = 0.99,\n",
        "                 df = len(data2)-1,\n",
        "                 loc = np.mean(data2),\n",
        "                 scale = stats.sem(data2),\n",
        "                 )"
      ],
      "metadata": {
        "colab": {
          "base_uri": "https://localhost:8080/"
        },
        "id": "f-9OZXkvhyMv",
        "outputId": "242df8cc-60df-4072-d9fb-554d8e849327"
      },
      "execution_count": null,
      "outputs": [
        {
          "output_type": "execute_result",
          "data": {
            "text/plain": [
              "(15.765129223872773, 25.701537442793896)"
            ]
          },
          "metadata": {},
          "execution_count": 15
        }
      ]
    },
    {
      "cell_type": "markdown",
      "metadata": {
        "id": "Cl1NEa3TV9P3"
      },
      "source": [
        "### Intervalos de confianza en una distribución normal"
      ]
    },
    {
      "cell_type": "markdown",
      "source": [
        "Definimos otros datos de prueba"
      ],
      "metadata": {
        "id": "Ndjlb4mdao_A"
      }
    },
    {
      "cell_type": "code",
      "source": [
        "np.random.seed(42)\n",
        "data = np.random.randint(10,30,50)\n",
        "data"
      ],
      "metadata": {
        "id": "E1KfNsIadNkv",
        "colab": {
          "base_uri": "https://localhost:8080/"
        },
        "outputId": "39b2f368-fcdb-4282-f4db-e7f4a2f68d99"
      },
      "execution_count": null,
      "outputs": [
        {
          "output_type": "execute_result",
          "data": {
            "text/plain": [
              "array([16, 29, 24, 20, 17, 16, 28, 20, 20, 13, 17, 12, 11, 21, 15, 11, 10,\n",
              "       21, 21, 26, 19, 25, 24, 24, 28, 21, 29, 12, 14, 28, 16, 18, 16, 27,\n",
              "       13, 23, 27, 18, 11, 29, 24, 16, 21, 17, 24, 12, 23, 26, 13, 27])"
            ]
          },
          "metadata": {},
          "execution_count": 18
        }
      ]
    },
    {
      "cell_type": "markdown",
      "source": [
        "Calculamos el intervalo de confianza del 95% para la media de la población.\n",
        "\n",
        "\n",
        "La función stats.sem es utilizada para calcular el error estándar de la media de los datos ingresados."
      ],
      "metadata": {
        "id": "QgxR7YWEasVs"
      }
    },
    {
      "cell_type": "code",
      "source": [
        "stats.norm"
      ],
      "metadata": {
        "id": "uUIhW902dOuO",
        "colab": {
          "base_uri": "https://localhost:8080/"
        },
        "outputId": "5b046e1e-52ca-40fc-c45b-6e836c5d16fb"
      },
      "execution_count": null,
      "outputs": [
        {
          "output_type": "execute_result",
          "data": {
            "text/plain": [
              "<scipy.stats._continuous_distns.norm_gen at 0x7f362d2b3bd0>"
            ]
          },
          "metadata": {},
          "execution_count": 19
        }
      ]
    },
    {
      "cell_type": "code",
      "source": [
        "stats.norm.interval(\n",
        "    alpha = 0.95,\n",
        "    loc = np.mean(data),\n",
        "    scale = stats.sem(data)\n",
        ")"
      ],
      "metadata": {
        "colab": {
          "base_uri": "https://localhost:8080/"
        },
        "id": "nw6xluzeku5Q",
        "outputId": "d134b4d2-8182-49a7-d864-861023fe60a2"
      },
      "execution_count": null,
      "outputs": [
        {
          "output_type": "execute_result",
          "data": {
            "text/plain": [
              "(18.25642372955045, 21.46357627044955)"
            ]
          },
          "metadata": {},
          "execution_count": 20
        }
      ]
    },
    {
      "cell_type": "markdown",
      "source": [
        "Calculamos el intervalor de confianza 99% para la misma muestra."
      ],
      "metadata": {
        "id": "XoBj1Draa0Eh"
      }
    },
    {
      "cell_type": "code",
      "source": [],
      "metadata": {
        "id": "oVlAkinRdP6w"
      },
      "execution_count": null,
      "outputs": []
    },
    {
      "cell_type": "code",
      "source": [
        "stats.norm.interval(\n",
        "    alpha = 0.99,\n",
        "    loc = np.mean(data),\n",
        "    scale = stats.sem(data)\n",
        ")"
      ],
      "metadata": {
        "colab": {
          "base_uri": "https://localhost:8080/"
        },
        "id": "LGmutZXrk-uR",
        "outputId": "88b13909-f971-43fc-a7d8-8881fbb62bb3"
      },
      "execution_count": null,
      "outputs": [
        {
          "output_type": "execute_result",
          "data": {
            "text/plain": [
              "(17.752543546472907, 21.96745645352709)"
            ]
          },
          "metadata": {},
          "execution_count": 22
        }
      ]
    },
    {
      "cell_type": "markdown",
      "metadata": {
        "id": "IHG8r4RIXUEN"
      },
      "source": [
        "# Métricas sobre distribuciones"
      ]
    },
    {
      "cell_type": "markdown",
      "metadata": {
        "id": "Zpveyfq3XUEF"
      },
      "source": [
        "## Distribuciones"
      ]
    },
    {
      "cell_type": "markdown",
      "metadata": {
        "id": "LE52HTYaXUEG"
      },
      "source": [
        "Una de las mejores maneras de describir una variable es reportar los valores que aparecen en el dataset relacionados con dicha viariable y la cantida de veces que aparece cada uno. A este tipo de descripción la llamamos **distribución** de una variable.\n",
        "\n",
        "La forma más común de representar a una distribución es mediante un histograma, la cual es una gráfica que muestra la frecuencia de cada valor de la variable."
      ]
    },
    {
      "cell_type": "code",
      "source": [
        "iris = sns.load_dataset (\"iris\")"
      ],
      "metadata": {
        "id": "_M3qWNGcdRYP"
      },
      "execution_count": null,
      "outputs": []
    },
    {
      "cell_type": "code",
      "source": [
        "iris"
      ],
      "metadata": {
        "colab": {
          "base_uri": "https://localhost:8080/",
          "height": 424
        },
        "id": "mDzOu3C7nA60",
        "outputId": "ab0aefea-d7e5-498e-cf69-cf3fae1990ad"
      },
      "execution_count": null,
      "outputs": [
        {
          "output_type": "execute_result",
          "data": {
            "text/plain": [
              "     sepal_length  sepal_width  petal_length  petal_width    species\n",
              "0             5.1          3.5           1.4          0.2     setosa\n",
              "1             4.9          3.0           1.4          0.2     setosa\n",
              "2             4.7          3.2           1.3          0.2     setosa\n",
              "3             4.6          3.1           1.5          0.2     setosa\n",
              "4             5.0          3.6           1.4          0.2     setosa\n",
              "..            ...          ...           ...          ...        ...\n",
              "145           6.7          3.0           5.2          2.3  virginica\n",
              "146           6.3          2.5           5.0          1.9  virginica\n",
              "147           6.5          3.0           5.2          2.0  virginica\n",
              "148           6.2          3.4           5.4          2.3  virginica\n",
              "149           5.9          3.0           5.1          1.8  virginica\n",
              "\n",
              "[150 rows x 5 columns]"
            ],
            "text/html": [
              "\n",
              "  <div id=\"df-0516d1ec-a225-4ee4-a623-5273aced9970\">\n",
              "    <div class=\"colab-df-container\">\n",
              "      <div>\n",
              "<style scoped>\n",
              "    .dataframe tbody tr th:only-of-type {\n",
              "        vertical-align: middle;\n",
              "    }\n",
              "\n",
              "    .dataframe tbody tr th {\n",
              "        vertical-align: top;\n",
              "    }\n",
              "\n",
              "    .dataframe thead th {\n",
              "        text-align: right;\n",
              "    }\n",
              "</style>\n",
              "<table border=\"1\" class=\"dataframe\">\n",
              "  <thead>\n",
              "    <tr style=\"text-align: right;\">\n",
              "      <th></th>\n",
              "      <th>sepal_length</th>\n",
              "      <th>sepal_width</th>\n",
              "      <th>petal_length</th>\n",
              "      <th>petal_width</th>\n",
              "      <th>species</th>\n",
              "    </tr>\n",
              "  </thead>\n",
              "  <tbody>\n",
              "    <tr>\n",
              "      <th>0</th>\n",
              "      <td>5.1</td>\n",
              "      <td>3.5</td>\n",
              "      <td>1.4</td>\n",
              "      <td>0.2</td>\n",
              "      <td>setosa</td>\n",
              "    </tr>\n",
              "    <tr>\n",
              "      <th>1</th>\n",
              "      <td>4.9</td>\n",
              "      <td>3.0</td>\n",
              "      <td>1.4</td>\n",
              "      <td>0.2</td>\n",
              "      <td>setosa</td>\n",
              "    </tr>\n",
              "    <tr>\n",
              "      <th>2</th>\n",
              "      <td>4.7</td>\n",
              "      <td>3.2</td>\n",
              "      <td>1.3</td>\n",
              "      <td>0.2</td>\n",
              "      <td>setosa</td>\n",
              "    </tr>\n",
              "    <tr>\n",
              "      <th>3</th>\n",
              "      <td>4.6</td>\n",
              "      <td>3.1</td>\n",
              "      <td>1.5</td>\n",
              "      <td>0.2</td>\n",
              "      <td>setosa</td>\n",
              "    </tr>\n",
              "    <tr>\n",
              "      <th>4</th>\n",
              "      <td>5.0</td>\n",
              "      <td>3.6</td>\n",
              "      <td>1.4</td>\n",
              "      <td>0.2</td>\n",
              "      <td>setosa</td>\n",
              "    </tr>\n",
              "    <tr>\n",
              "      <th>...</th>\n",
              "      <td>...</td>\n",
              "      <td>...</td>\n",
              "      <td>...</td>\n",
              "      <td>...</td>\n",
              "      <td>...</td>\n",
              "    </tr>\n",
              "    <tr>\n",
              "      <th>145</th>\n",
              "      <td>6.7</td>\n",
              "      <td>3.0</td>\n",
              "      <td>5.2</td>\n",
              "      <td>2.3</td>\n",
              "      <td>virginica</td>\n",
              "    </tr>\n",
              "    <tr>\n",
              "      <th>146</th>\n",
              "      <td>6.3</td>\n",
              "      <td>2.5</td>\n",
              "      <td>5.0</td>\n",
              "      <td>1.9</td>\n",
              "      <td>virginica</td>\n",
              "    </tr>\n",
              "    <tr>\n",
              "      <th>147</th>\n",
              "      <td>6.5</td>\n",
              "      <td>3.0</td>\n",
              "      <td>5.2</td>\n",
              "      <td>2.0</td>\n",
              "      <td>virginica</td>\n",
              "    </tr>\n",
              "    <tr>\n",
              "      <th>148</th>\n",
              "      <td>6.2</td>\n",
              "      <td>3.4</td>\n",
              "      <td>5.4</td>\n",
              "      <td>2.3</td>\n",
              "      <td>virginica</td>\n",
              "    </tr>\n",
              "    <tr>\n",
              "      <th>149</th>\n",
              "      <td>5.9</td>\n",
              "      <td>3.0</td>\n",
              "      <td>5.1</td>\n",
              "      <td>1.8</td>\n",
              "      <td>virginica</td>\n",
              "    </tr>\n",
              "  </tbody>\n",
              "</table>\n",
              "<p>150 rows × 5 columns</p>\n",
              "</div>\n",
              "      <button class=\"colab-df-convert\" onclick=\"convertToInteractive('df-0516d1ec-a225-4ee4-a623-5273aced9970')\"\n",
              "              title=\"Convert this dataframe to an interactive table.\"\n",
              "              style=\"display:none;\">\n",
              "        \n",
              "  <svg xmlns=\"http://www.w3.org/2000/svg\" height=\"24px\"viewBox=\"0 0 24 24\"\n",
              "       width=\"24px\">\n",
              "    <path d=\"M0 0h24v24H0V0z\" fill=\"none\"/>\n",
              "    <path d=\"M18.56 5.44l.94 2.06.94-2.06 2.06-.94-2.06-.94-.94-2.06-.94 2.06-2.06.94zm-11 1L8.5 8.5l.94-2.06 2.06-.94-2.06-.94L8.5 2.5l-.94 2.06-2.06.94zm10 10l.94 2.06.94-2.06 2.06-.94-2.06-.94-.94-2.06-.94 2.06-2.06.94z\"/><path d=\"M17.41 7.96l-1.37-1.37c-.4-.4-.92-.59-1.43-.59-.52 0-1.04.2-1.43.59L10.3 9.45l-7.72 7.72c-.78.78-.78 2.05 0 2.83L4 21.41c.39.39.9.59 1.41.59.51 0 1.02-.2 1.41-.59l7.78-7.78 2.81-2.81c.8-.78.8-2.07 0-2.86zM5.41 20L4 18.59l7.72-7.72 1.47 1.35L5.41 20z\"/>\n",
              "  </svg>\n",
              "      </button>\n",
              "      \n",
              "  <style>\n",
              "    .colab-df-container {\n",
              "      display:flex;\n",
              "      flex-wrap:wrap;\n",
              "      gap: 12px;\n",
              "    }\n",
              "\n",
              "    .colab-df-convert {\n",
              "      background-color: #E8F0FE;\n",
              "      border: none;\n",
              "      border-radius: 50%;\n",
              "      cursor: pointer;\n",
              "      display: none;\n",
              "      fill: #1967D2;\n",
              "      height: 32px;\n",
              "      padding: 0 0 0 0;\n",
              "      width: 32px;\n",
              "    }\n",
              "\n",
              "    .colab-df-convert:hover {\n",
              "      background-color: #E2EBFA;\n",
              "      box-shadow: 0px 1px 2px rgba(60, 64, 67, 0.3), 0px 1px 3px 1px rgba(60, 64, 67, 0.15);\n",
              "      fill: #174EA6;\n",
              "    }\n",
              "\n",
              "    [theme=dark] .colab-df-convert {\n",
              "      background-color: #3B4455;\n",
              "      fill: #D2E3FC;\n",
              "    }\n",
              "\n",
              "    [theme=dark] .colab-df-convert:hover {\n",
              "      background-color: #434B5C;\n",
              "      box-shadow: 0px 1px 3px 1px rgba(0, 0, 0, 0.15);\n",
              "      filter: drop-shadow(0px 1px 2px rgba(0, 0, 0, 0.3));\n",
              "      fill: #FFFFFF;\n",
              "    }\n",
              "  </style>\n",
              "\n",
              "      <script>\n",
              "        const buttonEl =\n",
              "          document.querySelector('#df-0516d1ec-a225-4ee4-a623-5273aced9970 button.colab-df-convert');\n",
              "        buttonEl.style.display =\n",
              "          google.colab.kernel.accessAllowed ? 'block' : 'none';\n",
              "\n",
              "        async function convertToInteractive(key) {\n",
              "          const element = document.querySelector('#df-0516d1ec-a225-4ee4-a623-5273aced9970');\n",
              "          const dataTable =\n",
              "            await google.colab.kernel.invokeFunction('convertToInteractive',\n",
              "                                                     [key], {});\n",
              "          if (!dataTable) return;\n",
              "\n",
              "          const docLinkHtml = 'Like what you see? Visit the ' +\n",
              "            '<a target=\"_blank\" href=https://colab.research.google.com/notebooks/data_table.ipynb>data table notebook</a>'\n",
              "            + ' to learn more about interactive tables.';\n",
              "          element.innerHTML = '';\n",
              "          dataTable['output_type'] = 'display_data';\n",
              "          await google.colab.output.renderOutput(dataTable, element);\n",
              "          const docLink = document.createElement('div');\n",
              "          docLink.innerHTML = docLinkHtml;\n",
              "          element.appendChild(docLink);\n",
              "        }\n",
              "      </script>\n",
              "    </div>\n",
              "  </div>\n",
              "  "
            ]
          },
          "metadata": {},
          "execution_count": 26
        }
      ]
    },
    {
      "cell_type": "code",
      "source": [
        "sns.histplot(iris[\"sepal_length\"], color = \"skyblue\")"
      ],
      "metadata": {
        "id": "1PNPdMmjdTQT",
        "colab": {
          "base_uri": "https://localhost:8080/",
          "height": 297
        },
        "outputId": "ed3e9342-844e-48fe-e1c2-74495979f9ce"
      },
      "execution_count": null,
      "outputs": [
        {
          "output_type": "execute_result",
          "data": {
            "text/plain": [
              "<matplotlib.axes._subplots.AxesSubplot at 0x7f361ffc47d0>"
            ]
          },
          "metadata": {},
          "execution_count": 27
        },
        {
          "output_type": "display_data",
          "data": {
            "text/plain": [
              "<Figure size 432x288 with 1 Axes>"
            ],
            "image/png": "[encoded data removed]"
          },
          "metadata": {
            "needs_background": "light"
          }
        }
      ]
    },
    {
      "cell_type": "markdown",
      "metadata": {
        "id": "XB-maXZJXUEL"
      },
      "source": [
        "También puedes utilizar simplemente un contador para obtener las frecuencias de los valores en un diccionario donde cada clave es un valor de la variable y cada valor es la frecuencia"
      ]
    },
    {
      "cell_type": "code",
      "source": [
        "Counter"
      ],
      "metadata": {
        "id": "RU2haNJznCW3"
      },
      "execution_count": null,
      "outputs": []
    },
    {
      "cell_type": "markdown",
      "metadata": {
        "id": "LSpxAQyBXUEM"
      },
      "source": [
        "Si cuentas con pandas instalado, puedes contabilizarlos con el método value_counts() 👍"
      ]
    },
    {
      "cell_type": "code",
      "source": [
        "iris[\"sepall_length\"].value_counts()"
      ],
      "metadata": {
        "id": "Q0aVPG-MdUY0",
        "colab": {
          "base_uri": "https://localhost:8080/",
          "height": 501
        },
        "outputId": "1d11d61b-197f-4831-f29b-3cccf8e406f2"
      },
      "execution_count": null,
      "outputs": [
        {
          "output_type": "error",
          "ename": "KeyError",
          "evalue": "ignored",
          "traceback": [
            "\u001b[0;31m---------------------------------------------------------------------------\u001b[0m",
            "\u001b[0;31mKeyError\u001b[0m                                  Traceback (most recent call last)",
            "\u001b[0;32m/usr/local/lib/python3.7/dist-packages/pandas/core/indexes/base.py\u001b[0m in \u001b[0;36mget_loc\u001b[0;34m(self, key, method, tolerance)\u001b[0m\n\u001b[1;32m   3360\u001b[0m             \u001b[0;32mtry\u001b[0m\u001b[0;34m:\u001b[0m\u001b[0;34m\u001b[0m\u001b[0;34m\u001b[0m\u001b[0m\n\u001b[0;32m-> 3361\u001b[0;31m                 \u001b[0;32mreturn\u001b[0m \u001b[0mself\u001b[0m\u001b[0;34m.\u001b[0m\u001b[0m_engine\u001b[0m\u001b[0;34m.\u001b[0m\u001b[0mget_loc\u001b[0m\u001b[0;34m(\u001b[0m\u001b[0mcasted_key\u001b[0m\u001b[0;34m)\u001b[0m\u001b[0;34m\u001b[0m\u001b[0;34m\u001b[0m\u001b[0m\n\u001b[0m\u001b[1;32m   3362\u001b[0m             \u001b[0;32mexcept\u001b[0m \u001b[0mKeyError\u001b[0m \u001b[0;32mas\u001b[0m \u001b[0merr\u001b[0m\u001b[0;34m:\u001b[0m\u001b[0;34m\u001b[0m\u001b[0;34m\u001b[0m\u001b[0m\n",
            "\u001b[0;32m/usr/local/lib/python3.7/dist-packages/pandas/_libs/index.pyx\u001b[0m in \u001b[0;36mpandas._libs.index.IndexEngine.get_loc\u001b[0;34m()\u001b[0m\n",
            "\u001b[0;32m/usr/local/lib/python3.7/dist-packages/pandas/_libs/index.pyx\u001b[0m in \u001b[0;36mpandas._libs.index.IndexEngine.get_loc\u001b[0;34m()\u001b[0m\n",
            "\u001b[0;32mpandas/_libs/hashtable_class_helper.pxi\u001b[0m in \u001b[0;36mpandas._libs.hashtable.PyObjectHashTable.get_item\u001b[0;34m()\u001b[0m\n",
            "\u001b[0;32mpandas/_libs/hashtable_class_helper.pxi\u001b[0m in \u001b[0;36mpandas._libs.hashtable.PyObjectHashTable.get_item\u001b[0;34m()\u001b[0m\n",
            "\u001b[0;31mKeyError\u001b[0m: 'sepall_length'",
            "\nThe above exception was the direct cause of the following exception:\n",
            "\u001b[0;31mKeyError\u001b[0m                                  Traceback (most recent call last)",
            "\u001b[0;32m<ipython-input-28-77d17f63d665>\u001b[0m in \u001b[0;36m<module>\u001b[0;34m\u001b[0m\n\u001b[0;32m----> 1\u001b[0;31m \u001b[0miris\u001b[0m\u001b[0;34m[\u001b[0m\u001b[0;34m\"sepall_length\"\u001b[0m\u001b[0;34m]\u001b[0m\u001b[0;34m.\u001b[0m\u001b[0mvalue_counts\u001b[0m\u001b[0;34m(\u001b[0m\u001b[0;34m)\u001b[0m\u001b[0;34m\u001b[0m\u001b[0;34m\u001b[0m\u001b[0m\n\u001b[0m",
            "\u001b[0;32m/usr/local/lib/python3.7/dist-packages/pandas/core/frame.py\u001b[0m in \u001b[0;36m__getitem__\u001b[0;34m(self, key)\u001b[0m\n\u001b[1;32m   3456\u001b[0m             \u001b[0;32mif\u001b[0m \u001b[0mself\u001b[0m\u001b[0;34m.\u001b[0m\u001b[0mcolumns\u001b[0m\u001b[0;34m.\u001b[0m\u001b[0mnlevels\u001b[0m \u001b[0;34m>\u001b[0m \u001b[0;36m1\u001b[0m\u001b[0;34m:\u001b[0m\u001b[0;34m\u001b[0m\u001b[0;34m\u001b[0m\u001b[0m\n\u001b[1;32m   3457\u001b[0m                 \u001b[0;32mreturn\u001b[0m \u001b[0mself\u001b[0m\u001b[0;34m.\u001b[0m\u001b[0m_getitem_multilevel\u001b[0m\u001b[0;34m(\u001b[0m\u001b[0mkey\u001b[0m\u001b[0;34m)\u001b[0m\u001b[0;34m\u001b[0m\u001b[0;34m\u001b[0m\u001b[0m\n\u001b[0;32m-> 3458\u001b[0;31m             \u001b[0mindexer\u001b[0m \u001b[0;34m=\u001b[0m \u001b[0mself\u001b[0m\u001b[0;34m.\u001b[0m\u001b[0mcolumns\u001b[0m\u001b[0;34m.\u001b[0m\u001b[0mget_loc\u001b[0m\u001b[0;34m(\u001b[0m\u001b[0mkey\u001b[0m\u001b[0;34m)\u001b[0m\u001b[0;34m\u001b[0m\u001b[0;34m\u001b[0m\u001b[0m\n\u001b[0m\u001b[1;32m   3459\u001b[0m             \u001b[0;32mif\u001b[0m \u001b[0mis_integer\u001b[0m\u001b[0;34m(\u001b[0m\u001b[0mindexer\u001b[0m\u001b[0;34m)\u001b[0m\u001b[0;34m:\u001b[0m\u001b[0;34m\u001b[0m\u001b[0;34m\u001b[0m\u001b[0m\n\u001b[1;32m   3460\u001b[0m                 \u001b[0mindexer\u001b[0m \u001b[0;34m=\u001b[0m \u001b[0;34m[\u001b[0m\u001b[0mindexer\u001b[0m\u001b[0;34m]\u001b[0m\u001b[0;34m\u001b[0m\u001b[0;34m\u001b[0m\u001b[0m\n",
            "\u001b[0;32m/usr/local/lib/python3.7/dist-packages/pandas/core/indexes/base.py\u001b[0m in \u001b[0;36mget_loc\u001b[0;34m(self, key, method, tolerance)\u001b[0m\n\u001b[1;32m   3361\u001b[0m                 \u001b[0;32mreturn\u001b[0m \u001b[0mself\u001b[0m\u001b[0;34m.\u001b[0m\u001b[0m_engine\u001b[0m\u001b[0;34m.\u001b[0m\u001b[0mget_loc\u001b[0m\u001b[0;34m(\u001b[0m\u001b[0mcasted_key\u001b[0m\u001b[0;34m)\u001b[0m\u001b[0;34m\u001b[0m\u001b[0;34m\u001b[0m\u001b[0m\n\u001b[1;32m   3362\u001b[0m             \u001b[0;32mexcept\u001b[0m \u001b[0mKeyError\u001b[0m \u001b[0;32mas\u001b[0m \u001b[0merr\u001b[0m\u001b[0;34m:\u001b[0m\u001b[0;34m\u001b[0m\u001b[0;34m\u001b[0m\u001b[0m\n\u001b[0;32m-> 3363\u001b[0;31m                 \u001b[0;32mraise\u001b[0m \u001b[0mKeyError\u001b[0m\u001b[0;34m(\u001b[0m\u001b[0mkey\u001b[0m\u001b[0;34m)\u001b[0m \u001b[0;32mfrom\u001b[0m \u001b[0merr\u001b[0m\u001b[0;34m\u001b[0m\u001b[0;34m\u001b[0m\u001b[0m\n\u001b[0m\u001b[1;32m   3364\u001b[0m \u001b[0;34m\u001b[0m\u001b[0m\n\u001b[1;32m   3365\u001b[0m         \u001b[0;32mif\u001b[0m \u001b[0mis_scalar\u001b[0m\u001b[0;34m(\u001b[0m\u001b[0mkey\u001b[0m\u001b[0;34m)\u001b[0m \u001b[0;32mand\u001b[0m \u001b[0misna\u001b[0m\u001b[0;34m(\u001b[0m\u001b[0mkey\u001b[0m\u001b[0;34m)\u001b[0m \u001b[0;32mand\u001b[0m \u001b[0;32mnot\u001b[0m \u001b[0mself\u001b[0m\u001b[0;34m.\u001b[0m\u001b[0mhasnans\u001b[0m\u001b[0;34m:\u001b[0m\u001b[0;34m\u001b[0m\u001b[0;34m\u001b[0m\u001b[0m\n",
            "\u001b[0;31mKeyError\u001b[0m: 'sepall_length'"
          ]
        }
      ]
    },
    {
      "cell_type": "markdown",
      "metadata": {
        "id": "4E1CSMtRXUEO"
      },
      "source": [
        "## Percentiles"
      ]
    },
    {
      "cell_type": "markdown",
      "metadata": {
        "id": "x1GbsYSWXUEO"
      },
      "source": [
        "Los percentiles son una forma de obtener el valor que corresponde a un cierto porcentaje de los datos ordenados en una distribución, de tal manera que no importa si la distribución es asimétrica, el percentil nos permite hacer el \"corte\" en la posición porcentual que requerimos."
      ]
    },
    {
      "cell_type": "markdown",
      "metadata": {
        "id": "U5Cjm1IAXUEO"
      },
      "source": [
        "La mediana, puede considerarse un \"nombre especial\" para el percentil 50, esto significa que el valor de la mediante siempre es mayor que el 50% de los datos ordenados."
      ]
    },
    {
      "cell_type": "markdown",
      "metadata": {
        "id": "_sD_mX08XUEO"
      },
      "source": [
        "Lo mismo se puede decir de cualquier otro percentil, es decir, si calculas el percentil 25, eso quiere decir que acabas de encontrar un valor en los datos que es mayor que el 25% de los datos ordenados."
      ]
    },
    {
      "cell_type": "code",
      "source": [
        "percentiles = np.array([25, 50 ,75])\n"
      ],
      "metadata": {
        "id": "BF8PqCIkdWKj"
      },
      "execution_count": null,
      "outputs": []
    },
    {
      "cell_type": "markdown",
      "source": [
        "Obtenemos los datos para la distribución"
      ],
      "metadata": {
        "id": "gRui5H5vbK_d"
      }
    },
    {
      "cell_type": "code",
      "source": [
        "versicolor_petal_length = iris.query('species == \"versicolor\"').loc[:, 'petal_length']\n",
        "versicolor_petal_length"
      ],
      "metadata": {
        "id": "jrLxajVddVv_",
        "colab": {
          "base_uri": "https://localhost:8080/"
        },
        "outputId": "36067f93-f595-4ee9-b379-32d06580b9ca"
      },
      "execution_count": null,
      "outputs": [
        {
          "output_type": "execute_result",
          "data": {
            "text/plain": [
              "50    4.7\n",
              "51    4.5\n",
              "52    4.9\n",
              "53    4.0\n",
              "54    4.6\n",
              "55    4.5\n",
              "56    4.7\n",
              "57    3.3\n",
              "58    4.6\n",
              "59    3.9\n",
              "60    3.5\n",
              "61    4.2\n",
              "62    4.0\n",
              "63    4.7\n",
              "64    3.6\n",
              "65    4.4\n",
              "66    4.5\n",
              "67    4.1\n",
              "68    4.5\n",
              "69    3.9\n",
              "70    4.8\n",
              "71    4.0\n",
              "72    4.9\n",
              "73    4.7\n",
              "74    4.3\n",
              "75    4.4\n",
              "76    4.8\n",
              "77    5.0\n",
              "78    4.5\n",
              "79    3.5\n",
              "80    3.8\n",
              "81    3.7\n",
              "82    3.9\n",
              "83    5.1\n",
              "84    4.5\n",
              "85    4.5\n",
              "86    4.7\n",
              "87    4.4\n",
              "88    4.1\n",
              "89    4.0\n",
              "90    4.4\n",
              "91    4.6\n",
              "92    4.0\n",
              "93    3.3\n",
              "94    4.2\n",
              "95    4.2\n",
              "96    4.2\n",
              "97    4.3\n",
              "98    3.0\n",
              "99    4.1\n",
              "Name: petal_length, dtype: float64"
            ]
          },
          "metadata": {},
          "execution_count": 34
        }
      ]
    },
    {
      "cell_type": "markdown",
      "source": [
        "Calculamos los percentiles: ptiles_vers"
      ],
      "metadata": {
        "id": "10Xnq5DobRPf"
      }
    },
    {
      "cell_type": "code",
      "source": [
        "ptiles_vers = np.percentile(versicolor_petal_length, percentiles)\n",
        "ptiles_vers  #el valor de en medio esta asociada a la media"
      ],
      "metadata": {
        "id": "SyvMOQtrdXyQ",
        "colab": {
          "base_uri": "https://localhost:8080/"
        },
        "outputId": "72044131-116c-40a5-92be-25832628c0dd"
      },
      "execution_count": null,
      "outputs": [
        {
          "output_type": "execute_result",
          "data": {
            "text/plain": [
              "array([4.  , 4.35, 4.6 ])"
            ]
          },
          "metadata": {},
          "execution_count": 35
        }
      ]
    },
    {
      "cell_type": "code",
      "source": [
        "np.mean(versicolor_petal_length)"
      ],
      "metadata": {
        "colab": {
          "base_uri": "https://localhost:8080/"
        },
        "id": "PJXizz_5pCWk",
        "outputId": "a5898bd8-0b9c-43aa-e1be-fb5a01e2b9fe"
      },
      "execution_count": null,
      "outputs": [
        {
          "output_type": "execute_result",
          "data": {
            "text/plain": [
              "4.26"
            ]
          },
          "metadata": {},
          "execution_count": 36
        }
      ]
    },
    {
      "cell_type": "markdown",
      "metadata": {
        "id": "xH6xM7bZXUEP"
      },
      "source": [
        "### Visualizando percentiles mediante histograma"
      ]
    },
    {
      "cell_type": "code",
      "source": [
        "nombres = ('percentil 25', 'percentil 50', 'percentil 75')\n",
        "colores = ('green', 'red', 'blue')"
      ],
      "metadata": {
        "id": "fVdne9GnqSp1"
      },
      "execution_count": null,
      "outputs": []
    },
    {
      "cell_type": "code",
      "source": [
        "_ = versicolor_petal_length.plot (\n",
        "    kind = 'hist',\n",
        "    figsize = (10,8),\n",
        "    color ='white',\n",
        "    edgecolor = 'gray',\n",
        ")\n",
        "_ = plt.xlabel('versicolor petal length (cm)')\n",
        "_ = plt.ylabel('Frecuencia')\n",
        "\n",
        "for measurement, nombre, color in zip (ptiles_vers , nombres, colores):\n",
        "  plt.axvline(x = measurement, linestyle = '--', linewidth = 2.5, label = '{0} at {1}'.format(nombre,measurement), c= color)"
      ],
      "metadata": {
        "id": "CdozzXjOdY_t",
        "colab": {
          "base_uri": "https://localhost:8080/",
          "height": 497
        },
        "outputId": "34cc7663-b76d-47ba-9180-955470c4e100"
      },
      "execution_count": null,
      "outputs": [
        {
          "output_type": "display_data",
          "data": {
            "text/plain": [
              "<Figure size 720x576 with 1 Axes>"
            ],
            "image/png": "[encoded data removed]"
          },
          "metadata": {
            "needs_background": "light"
          }
        }
      ]
    },
    {
      "cell_type": "markdown",
      "metadata": {
        "id": "MYjLO9AVXUEQ"
      },
      "source": [
        "Vamos a corroborar con un boxplot"
      ]
    },
    {
      "cell_type": "code",
      "source": [
        "sns.boxplot (y = versicolor_petal_length)"
      ],
      "metadata": {
        "id": "mbzeFhi_daWf",
        "colab": {
          "base_uri": "https://localhost:8080/",
          "height": 269
        },
        "outputId": "522edcd5-81bf-4bfb-d036-3d051fce1a9d"
      },
      "execution_count": null,
      "outputs": [
        {
          "output_type": "execute_result",
          "data": {
            "text/plain": [
              "<matplotlib.axes._subplots.AxesSubplot at 0x7f361ffc4310>"
            ]
          },
          "metadata": {},
          "execution_count": 41
        },
        {
          "output_type": "display_data",
          "data": {
            "text/plain": [
              "<Figure size 432x288 with 1 Axes>"
            ],
            "image/png": "[encoded data removed]"
          },
          "metadata": {
            "needs_background": "light"
          }
        }
      ]
    },
    {
      "cell_type": "markdown",
      "metadata": {
        "id": "4hlsx7CJXUER"
      },
      "source": [
        "## Outliers (valores atípicos)"
      ]
    },
    {
      "cell_type": "markdown",
      "metadata": {
        "id": "vYAK50O4XUER"
      },
      "source": [
        "Cuando miramos un histograma es muy fácil identificar los valores más comunes en la distribución, pero los outliers no siempre quedan a la vista."
      ]
    },
    {
      "cell_type": "markdown",
      "metadata": {
        "id": "KH-wA1-KXUER"
      },
      "source": [
        "Antes de continuar, siempre es buena idea revisar si tenemos valores atípicos, los cuales son valores extremos que bien pueden ser errores en los registros, o quizá sean reportes precisos de eventos atípicos."
      ]
    },
    {
      "cell_type": "markdown",
      "metadata": {
        "id": "z9tSSS2wXUES"
      },
      "source": [
        "Podemos identificar outliers muy fácilmente con gráficas de caja"
      ]
    },
    {
      "cell_type": "markdown",
      "metadata": {
        "id": "_jDtop2iXUES"
      },
      "source": [
        "La mejor manera de darle manejo a los datos atípicos"
      ]
    },
    {
      "cell_type": "markdown",
      "metadata": {
        "id": "A9B057FlXUES"
      },
      "source": [
        "### Hallar outliers con boxplots"
      ]
    },
    {
      "cell_type": "code",
      "source": [
        "my_pal = {\n",
        "    \"versicolor\" : \"g\",\n",
        "    \"setosa\" : \"b\",\n",
        "    \"virginica\": \"o\"\n",
        "}\n",
        "my_pal"
      ],
      "metadata": {
        "id": "tg8qLGLmdbvc",
        "colab": {
          "base_uri": "https://localhost:8080/"
        },
        "outputId": "28ca9db1-4297-47f9-c183-f305c316d4dd"
      },
      "execution_count": null,
      "outputs": [
        {
          "output_type": "execute_result",
          "data": {
            "text/plain": [
              "{'versicolor': 'g', 'setosa': 'b', 'virginica': 'o'}"
            ]
          },
          "metadata": {},
          "execution_count": 44
        }
      ]
    },
    {
      "cell_type": "code",
      "source": [
        "sns.boxplot(x = iris[\"species\"], y = iris[\"sepal_length\"], palette = my_pal)"
      ],
      "metadata": {
        "colab": {
          "base_uri": "https://localhost:8080/",
          "height": 432
        },
        "id": "8BdZ5kMis3Hk",
        "outputId": "bf651e2d-fcfe-4d39-c507-dfdf26b42ee1"
      },
      "execution_count": null,
      "outputs": [
        {
          "output_type": "error",
          "ename": "ValueError",
          "evalue": "ignored",
          "traceback": [
            "\u001b[0;31m---------------------------------------------------------------------------\u001b[0m",
            "\u001b[0;31mValueError\u001b[0m                                Traceback (most recent call last)",
            "\u001b[0;32m/usr/local/lib/python3.7/dist-packages/seaborn/palettes.py\u001b[0m in \u001b[0;36mcolor_palette\u001b[0;34m(palette, n_colors, desat, as_cmap)\u001b[0m\n\u001b[1;32m    221\u001b[0m             \u001b[0mpalette\u001b[0m \u001b[0;34m=\u001b[0m \u001b[0mmap\u001b[0m\u001b[0;34m(\u001b[0m\u001b[0mmpl\u001b[0m\u001b[0;34m.\u001b[0m\u001b[0mcolors\u001b[0m\u001b[0;34m.\u001b[0m\u001b[0mcolorConverter\u001b[0m\u001b[0;34m.\u001b[0m\u001b[0mto_rgb\u001b[0m\u001b[0;34m,\u001b[0m \u001b[0mpalette\u001b[0m\u001b[0;34m)\u001b[0m\u001b[0;34m\u001b[0m\u001b[0;34m\u001b[0m\u001b[0m\n\u001b[0;32m--> 222\u001b[0;31m             \u001b[0mpalette\u001b[0m \u001b[0;34m=\u001b[0m \u001b[0m_ColorPalette\u001b[0m\u001b[0;34m(\u001b[0m\u001b[0mpalette\u001b[0m\u001b[0;34m)\u001b[0m\u001b[0;34m\u001b[0m\u001b[0;34m\u001b[0m\u001b[0m\n\u001b[0m\u001b[1;32m    223\u001b[0m         \u001b[0;32mexcept\u001b[0m \u001b[0mValueError\u001b[0m\u001b[0;34m:\u001b[0m\u001b[0;34m\u001b[0m\u001b[0;34m\u001b[0m\u001b[0m\n",
            "\u001b[0;32m/usr/local/lib/python3.7/dist-packages/matplotlib/colors.py\u001b[0m in \u001b[0;36mto_rgb\u001b[0;34m(c)\u001b[0m\n\u001b[1;32m    344\u001b[0m     \u001b[0;34m\"\"\"Convert *c* to an RGB color, silently dropping the alpha channel.\"\"\"\u001b[0m\u001b[0;34m\u001b[0m\u001b[0;34m\u001b[0m\u001b[0m\n\u001b[0;32m--> 345\u001b[0;31m     \u001b[0;32mreturn\u001b[0m \u001b[0mto_rgba\u001b[0m\u001b[0;34m(\u001b[0m\u001b[0mc\u001b[0m\u001b[0;34m)\u001b[0m\u001b[0;34m[\u001b[0m\u001b[0;34m:\u001b[0m\u001b[0;36m3\u001b[0m\u001b[0;34m]\u001b[0m\u001b[0;34m\u001b[0m\u001b[0;34m\u001b[0m\u001b[0m\n\u001b[0m\u001b[1;32m    346\u001b[0m \u001b[0;34m\u001b[0m\u001b[0m\n",
            "\u001b[0;32m/usr/local/lib/python3.7/dist-packages/matplotlib/colors.py\u001b[0m in \u001b[0;36mto_rgba\u001b[0;34m(c, alpha)\u001b[0m\n\u001b[1;32m    184\u001b[0m     \u001b[0;32mif\u001b[0m \u001b[0mrgba\u001b[0m \u001b[0;32mis\u001b[0m \u001b[0;32mNone\u001b[0m\u001b[0;34m:\u001b[0m  \u001b[0;31m# Suppress exception chaining of cache lookup failure.\u001b[0m\u001b[0;34m\u001b[0m\u001b[0;34m\u001b[0m\u001b[0m\n\u001b[0;32m--> 185\u001b[0;31m         \u001b[0mrgba\u001b[0m \u001b[0;34m=\u001b[0m \u001b[0m_to_rgba_no_colorcycle\u001b[0m\u001b[0;34m(\u001b[0m\u001b[0mc\u001b[0m\u001b[0;34m,\u001b[0m \u001b[0malpha\u001b[0m\u001b[0;34m)\u001b[0m\u001b[0;34m\u001b[0m\u001b[0;34m\u001b[0m\u001b[0m\n\u001b[0m\u001b[1;32m    186\u001b[0m         \u001b[0;32mtry\u001b[0m\u001b[0;34m:\u001b[0m\u001b[0;34m\u001b[0m\u001b[0;34m\u001b[0m\u001b[0m\n",
            "\u001b[0;32m/usr/local/lib/python3.7/dist-packages/matplotlib/colors.py\u001b[0m in \u001b[0;36m_to_rgba_no_colorcycle\u001b[0;34m(c, alpha)\u001b[0m\n\u001b[1;32m    260\u001b[0m             \u001b[0;32mreturn\u001b[0m \u001b[0mc\u001b[0m\u001b[0;34m,\u001b[0m \u001b[0mc\u001b[0m\u001b[0;34m,\u001b[0m \u001b[0mc\u001b[0m\u001b[0;34m,\u001b[0m \u001b[0malpha\u001b[0m \u001b[0;32mif\u001b[0m \u001b[0malpha\u001b[0m \u001b[0;32mis\u001b[0m \u001b[0;32mnot\u001b[0m \u001b[0;32mNone\u001b[0m \u001b[0;32melse\u001b[0m \u001b[0;36m1.\u001b[0m\u001b[0;34m\u001b[0m\u001b[0;34m\u001b[0m\u001b[0m\n\u001b[0;32m--> 261\u001b[0;31m         \u001b[0;32mraise\u001b[0m \u001b[0mValueError\u001b[0m\u001b[0;34m(\u001b[0m\u001b[0;34mf\"Invalid RGBA argument: {orig_c!r}\"\u001b[0m\u001b[0;34m)\u001b[0m\u001b[0;34m\u001b[0m\u001b[0;34m\u001b[0m\u001b[0m\n\u001b[0m\u001b[1;32m    262\u001b[0m     \u001b[0;31m# tuple color.\u001b[0m\u001b[0;34m\u001b[0m\u001b[0;34m\u001b[0m\u001b[0;34m\u001b[0m\u001b[0m\n",
            "\u001b[0;31mValueError\u001b[0m: Invalid RGBA argument: 'o'",
            "\nDuring handling of the above exception, another exception occurred:\n",
            "\u001b[0;31mValueError\u001b[0m                                Traceback (most recent call last)",
            "\u001b[0;32m<ipython-input-47-c00587a4436d>\u001b[0m in \u001b[0;36m<module>\u001b[0;34m\u001b[0m\n\u001b[0;32m----> 1\u001b[0;31m \u001b[0msns\u001b[0m\u001b[0;34m.\u001b[0m\u001b[0mboxplot\u001b[0m\u001b[0;34m(\u001b[0m\u001b[0mx\u001b[0m \u001b[0;34m=\u001b[0m \u001b[0miris\u001b[0m\u001b[0;34m[\u001b[0m\u001b[0;34m\"species\"\u001b[0m\u001b[0;34m]\u001b[0m\u001b[0;34m,\u001b[0m \u001b[0my\u001b[0m \u001b[0;34m=\u001b[0m \u001b[0miris\u001b[0m\u001b[0;34m[\u001b[0m\u001b[0;34m\"sepal_length\"\u001b[0m\u001b[0;34m]\u001b[0m\u001b[0;34m,\u001b[0m \u001b[0mpalette\u001b[0m \u001b[0;34m=\u001b[0m \u001b[0mmy_pal\u001b[0m\u001b[0;34m)\u001b[0m\u001b[0;34m\u001b[0m\u001b[0;34m\u001b[0m\u001b[0m\n\u001b[0m",
            "\u001b[0;32m/usr/local/lib/python3.7/dist-packages/seaborn/_decorators.py\u001b[0m in \u001b[0;36minner_f\u001b[0;34m(*args, **kwargs)\u001b[0m\n\u001b[1;32m     44\u001b[0m             )\n\u001b[1;32m     45\u001b[0m         \u001b[0mkwargs\u001b[0m\u001b[0;34m.\u001b[0m\u001b[0mupdate\u001b[0m\u001b[0;34m(\u001b[0m\u001b[0;34m{\u001b[0m\u001b[0mk\u001b[0m\u001b[0;34m:\u001b[0m \u001b[0marg\u001b[0m \u001b[0;32mfor\u001b[0m \u001b[0mk\u001b[0m\u001b[0;34m,\u001b[0m \u001b[0marg\u001b[0m \u001b[0;32min\u001b[0m \u001b[0mzip\u001b[0m\u001b[0;34m(\u001b[0m\u001b[0msig\u001b[0m\u001b[0;34m.\u001b[0m\u001b[0mparameters\u001b[0m\u001b[0;34m,\u001b[0m \u001b[0margs\u001b[0m\u001b[0;34m)\u001b[0m\u001b[0;34m}\u001b[0m\u001b[0;34m)\u001b[0m\u001b[0;34m\u001b[0m\u001b[0;34m\u001b[0m\u001b[0m\n\u001b[0;32m---> 46\u001b[0;31m         \u001b[0;32mreturn\u001b[0m \u001b[0mf\u001b[0m\u001b[0;34m(\u001b[0m\u001b[0;34m**\u001b[0m\u001b[0mkwargs\u001b[0m\u001b[0;34m)\u001b[0m\u001b[0;34m\u001b[0m\u001b[0;34m\u001b[0m\u001b[0m\n\u001b[0m\u001b[1;32m     47\u001b[0m     \u001b[0;32mreturn\u001b[0m \u001b[0minner_f\u001b[0m\u001b[0;34m\u001b[0m\u001b[0;34m\u001b[0m\u001b[0m\n\u001b[1;32m     48\u001b[0m \u001b[0;34m\u001b[0m\u001b[0m\n",
            "\u001b[0;32m/usr/local/lib/python3.7/dist-packages/seaborn/categorical.py\u001b[0m in \u001b[0;36mboxplot\u001b[0;34m(x, y, hue, data, order, hue_order, orient, color, palette, saturation, width, dodge, fliersize, linewidth, whis, ax, **kwargs)\u001b[0m\n\u001b[1;32m   2243\u001b[0m     plotter = _BoxPlotter(x, y, hue, data, order, hue_order,\n\u001b[1;32m   2244\u001b[0m                           \u001b[0morient\u001b[0m\u001b[0;34m,\u001b[0m \u001b[0mcolor\u001b[0m\u001b[0;34m,\u001b[0m \u001b[0mpalette\u001b[0m\u001b[0;34m,\u001b[0m \u001b[0msaturation\u001b[0m\u001b[0;34m,\u001b[0m\u001b[0;34m\u001b[0m\u001b[0;34m\u001b[0m\u001b[0m\n\u001b[0;32m-> 2245\u001b[0;31m                           width, dodge, fliersize, linewidth)\n\u001b[0m\u001b[1;32m   2246\u001b[0m \u001b[0;34m\u001b[0m\u001b[0m\n\u001b[1;32m   2247\u001b[0m     \u001b[0;32mif\u001b[0m \u001b[0max\u001b[0m \u001b[0;32mis\u001b[0m \u001b[0;32mNone\u001b[0m\u001b[0;34m:\u001b[0m\u001b[0;34m\u001b[0m\u001b[0;34m\u001b[0m\u001b[0m\n",
            "\u001b[0;32m/usr/local/lib/python3.7/dist-packages/seaborn/categorical.py\u001b[0m in \u001b[0;36m__init__\u001b[0;34m(self, x, y, hue, data, order, hue_order, orient, color, palette, saturation, width, dodge, fliersize, linewidth)\u001b[0m\n\u001b[1;32m    405\u001b[0m \u001b[0;34m\u001b[0m\u001b[0m\n\u001b[1;32m    406\u001b[0m         \u001b[0mself\u001b[0m\u001b[0;34m.\u001b[0m\u001b[0mestablish_variables\u001b[0m\u001b[0;34m(\u001b[0m\u001b[0mx\u001b[0m\u001b[0;34m,\u001b[0m \u001b[0my\u001b[0m\u001b[0;34m,\u001b[0m \u001b[0mhue\u001b[0m\u001b[0;34m,\u001b[0m \u001b[0mdata\u001b[0m\u001b[0;34m,\u001b[0m \u001b[0morient\u001b[0m\u001b[0;34m,\u001b[0m \u001b[0morder\u001b[0m\u001b[0;34m,\u001b[0m \u001b[0mhue_order\u001b[0m\u001b[0;34m)\u001b[0m\u001b[0;34m\u001b[0m\u001b[0;34m\u001b[0m\u001b[0m\n\u001b[0;32m--> 407\u001b[0;31m         \u001b[0mself\u001b[0m\u001b[0;34m.\u001b[0m\u001b[0mestablish_colors\u001b[0m\u001b[0;34m(\u001b[0m\u001b[0mcolor\u001b[0m\u001b[0;34m,\u001b[0m \u001b[0mpalette\u001b[0m\u001b[0;34m,\u001b[0m \u001b[0msaturation\u001b[0m\u001b[0;34m)\u001b[0m\u001b[0;34m\u001b[0m\u001b[0;34m\u001b[0m\u001b[0m\n\u001b[0m\u001b[1;32m    408\u001b[0m \u001b[0;34m\u001b[0m\u001b[0m\n\u001b[1;32m    409\u001b[0m         \u001b[0mself\u001b[0m\u001b[0;34m.\u001b[0m\u001b[0mdodge\u001b[0m \u001b[0;34m=\u001b[0m \u001b[0mdodge\u001b[0m\u001b[0;34m\u001b[0m\u001b[0;34m\u001b[0m\u001b[0m\n",
            "\u001b[0;32m/usr/local/lib/python3.7/dist-packages/seaborn/categorical.py\u001b[0m in \u001b[0;36mestablish_colors\u001b[0;34m(self, color, palette, saturation)\u001b[0m\n\u001b[1;32m    306\u001b[0m                 \u001b[0mpalette\u001b[0m \u001b[0;34m=\u001b[0m \u001b[0;34m[\u001b[0m\u001b[0mpalette\u001b[0m\u001b[0;34m[\u001b[0m\u001b[0ml\u001b[0m\u001b[0;34m]\u001b[0m \u001b[0;32mfor\u001b[0m \u001b[0ml\u001b[0m \u001b[0;32min\u001b[0m \u001b[0mlevels\u001b[0m\u001b[0;34m]\u001b[0m\u001b[0;34m\u001b[0m\u001b[0;34m\u001b[0m\u001b[0m\n\u001b[1;32m    307\u001b[0m \u001b[0;34m\u001b[0m\u001b[0m\n\u001b[0;32m--> 308\u001b[0;31m             \u001b[0mcolors\u001b[0m \u001b[0;34m=\u001b[0m \u001b[0mcolor_palette\u001b[0m\u001b[0;34m(\u001b[0m\u001b[0mpalette\u001b[0m\u001b[0;34m,\u001b[0m \u001b[0mn_colors\u001b[0m\u001b[0;34m)\u001b[0m\u001b[0;34m\u001b[0m\u001b[0;34m\u001b[0m\u001b[0m\n\u001b[0m\u001b[1;32m    309\u001b[0m \u001b[0;34m\u001b[0m\u001b[0m\n\u001b[1;32m    310\u001b[0m         \u001b[0;31m# Desaturate a bit because these are patches\u001b[0m\u001b[0;34m\u001b[0m\u001b[0;34m\u001b[0m\u001b[0;34m\u001b[0m\u001b[0m\n",
            "\u001b[0;32m/usr/local/lib/python3.7/dist-packages/seaborn/palettes.py\u001b[0m in \u001b[0;36mcolor_palette\u001b[0;34m(palette, n_colors, desat, as_cmap)\u001b[0m\n\u001b[1;32m    222\u001b[0m             \u001b[0mpalette\u001b[0m \u001b[0;34m=\u001b[0m \u001b[0m_ColorPalette\u001b[0m\u001b[0;34m(\u001b[0m\u001b[0mpalette\u001b[0m\u001b[0;34m)\u001b[0m\u001b[0;34m\u001b[0m\u001b[0;34m\u001b[0m\u001b[0m\n\u001b[1;32m    223\u001b[0m         \u001b[0;32mexcept\u001b[0m \u001b[0mValueError\u001b[0m\u001b[0;34m:\u001b[0m\u001b[0;34m\u001b[0m\u001b[0;34m\u001b[0m\u001b[0m\n\u001b[0;32m--> 224\u001b[0;31m             \u001b[0;32mraise\u001b[0m \u001b[0mValueError\u001b[0m\u001b[0;34m(\u001b[0m\u001b[0;34mf\"Could not generate a palette for {palette}\"\u001b[0m\u001b[0;34m)\u001b[0m\u001b[0;34m\u001b[0m\u001b[0;34m\u001b[0m\u001b[0m\n\u001b[0m\u001b[1;32m    225\u001b[0m \u001b[0;34m\u001b[0m\u001b[0m\n\u001b[1;32m    226\u001b[0m     \u001b[0;32mreturn\u001b[0m \u001b[0mpalette\u001b[0m\u001b[0;34m\u001b[0m\u001b[0;34m\u001b[0m\u001b[0m\n",
            "\u001b[0;31mValueError\u001b[0m: Could not generate a palette for <map object at 0x7f361a3a1e50>"
          ]
        }
      ]
    },
    {
      "cell_type": "markdown",
      "metadata": {
        "id": "dWepLX6CXUET"
      },
      "source": [
        "### Hallar outliers con z-score"
      ]
    },
    {
      "cell_type": "markdown",
      "source": [
        "Se obtiene la media y la desviación estandar."
      ],
      "metadata": {
        "id": "bGuoJd2BbgZY"
      }
    },
    {
      "cell_type": "code",
      "source": [
        "data = iris.query('species == \"virginia\"').loc[:, 'sepal_length']\n",
        "mean = np.mean(data)\n",
        "std = np.std(data)"
      ],
      "metadata": {
        "id": "Z_K04MMmddFs"
      },
      "execution_count": null,
      "outputs": []
    },
    {
      "cell_type": "code",
      "source": [
        "mean"
      ],
      "metadata": {
        "colab": {
          "base_uri": "https://localhost:8080/"
        },
        "id": "ZVicUuRnuPgX",
        "outputId": "4ea0ac9b-da26-4b82-e76b-09cd49ea2cf7"
      },
      "execution_count": null,
      "outputs": [
        {
          "output_type": "execute_result",
          "data": {
            "text/plain": [
              "nan"
            ]
          },
          "metadata": {},
          "execution_count": 51
        }
      ]
    },
    {
      "cell_type": "code",
      "source": [
        "std"
      ],
      "metadata": {
        "colab": {
          "base_uri": "https://localhost:8080/"
        },
        "id": "ATdV5kiOuSOk",
        "outputId": "a72aab75-9e87-4508-84ae-b3e56c3f1f50"
      },
      "execution_count": null,
      "outputs": [
        {
          "output_type": "execute_result",
          "data": {
            "text/plain": [
              "nan"
            ]
          },
          "metadata": {},
          "execution_count": 52
        }
      ]
    },
    {
      "cell_type": "markdown",
      "source": [
        "Z standarization es para normalizar los datos para poder definir si sobrepasan o no un umbral ( tambien se pueden usar para comparar variables X con Y)"
      ],
      "metadata": {
        "id": "G0B97A_7bmDv"
      }
    },
    {
      "cell_type": "code",
      "source": [
        "threshold = 2.0\n",
        "outlier = []"
      ],
      "metadata": {
        "id": "7tGSZ6CCdeSs"
      },
      "execution_count": null,
      "outputs": []
    },
    {
      "cell_type": "code",
      "source": [
        "for i in data:\n",
        "  z = (i - mean)/ std\n",
        "  if z > threshold or z < -threshold:\n",
        "    outlier.append(i)\n",
        "    outlier"
      ],
      "metadata": {
        "id": "ffQ1BHSTudlS"
      },
      "execution_count": null,
      "outputs": []
    },
    {
      "cell_type": "markdown",
      "metadata": {
        "id": "28u6BSH7XUEU"
      },
      "source": [
        "# Pruebas de hipótesis"
      ]
    },
    {
      "cell_type": "markdown",
      "metadata": {
        "id": "cuv6Hd4UXUEU"
      },
      "source": [
        "## Prueba de hipótesis para una muestra"
      ]
    },
    {
      "cell_type": "markdown",
      "metadata": {
        "id": "m-h0fucFXUEV"
      },
      "source": [
        "Esta es la prueba de hipótesis más básica. La mayoría de las veces no tenemos un valor fijo específico para comparar. Pero si es así, esta es la prueba de hipótesis más simple. Voy a comenzar con una prueba de hipótesis de una proporción. Usé el conjunto de datos Heart de Kaggle para esta demostración. No dude en descargar el conjunto de datos para su práctica. Aquí importo los paquetes y el conjunto de datos:"
      ]
    },
    {
      "cell_type": "markdown",
      "source": [
        "https://www.kaggle.com/johnsmith88/heart-disease-dataset"
      ],
      "metadata": {
        "id": "o_XbH0i9b3HH"
      }
    },
    {
      "cell_type": "markdown",
      "source": [
        "\n",
        "https://www.kaggle.com/ronitf/heart-disease-uci"
      ],
      "metadata": {
        "id": "VSys4bOEb8nw"
      }
    },
    {
      "cell_type": "code",
      "source": [
        "from google.colab import drive\n",
        "drive.mount('/content/drive')"
      ],
      "metadata": {
        "id": "BzHTWDgFdfdT",
        "colab": {
          "base_uri": "https://localhost:8080/"
        },
        "outputId": "9e828978-5246-4cfa-8706-58e662e1f3ac"
      },
      "execution_count": null,
      "outputs": [
        {
          "output_type": "stream",
          "name": "stdout",
          "text": [
            "Mounted at /content/drive\n"
          ]
        }
      ]
    },
    {
      "cell_type": "code",
      "source": [
        "df = pd.read_csv('drive/MyDrive/copia de heart.csv')"
      ],
      "metadata": {
        "colab": {
          "base_uri": "https://localhost:8080/",
          "height": 311
        },
        "id": "rdKUV2t0wVih",
        "outputId": "7566aaf8-279b-4415-99f3-17b618fad0eb"
      },
      "execution_count": null,
      "outputs": [
        {
          "output_type": "error",
          "ename": "FileNotFoundError",
          "evalue": "ignored",
          "traceback": [
            "\u001b[0;31m---------------------------------------------------------------------------\u001b[0m",
            "\u001b[0;31mFileNotFoundError\u001b[0m                         Traceback (most recent call last)",
            "\u001b[0;32m<ipython-input-56-e2fffcc5ea50>\u001b[0m in \u001b[0;36m<module>\u001b[0;34m\u001b[0m\n\u001b[0;32m----> 1\u001b[0;31m \u001b[0mdf\u001b[0m \u001b[0;34m=\u001b[0m \u001b[0mpd\u001b[0m\u001b[0;34m.\u001b[0m\u001b[0mread_csv\u001b[0m\u001b[0;34m(\u001b[0m\u001b[0;34m'drive/MyDrive/copia de heart.csv'\u001b[0m\u001b[0;34m)\u001b[0m\u001b[0;34m\u001b[0m\u001b[0;34m\u001b[0m\u001b[0m\n\u001b[0m",
            "\u001b[0;32m/usr/local/lib/python3.7/dist-packages/pandas/util/_decorators.py\u001b[0m in \u001b[0;36mwrapper\u001b[0;34m(*args, **kwargs)\u001b[0m\n\u001b[1;32m    309\u001b[0m                     \u001b[0mstacklevel\u001b[0m\u001b[0;34m=\u001b[0m\u001b[0mstacklevel\u001b[0m\u001b[0;34m,\u001b[0m\u001b[0;34m\u001b[0m\u001b[0;34m\u001b[0m\u001b[0m\n\u001b[1;32m    310\u001b[0m                 )\n\u001b[0;32m--> 311\u001b[0;31m             \u001b[0;32mreturn\u001b[0m \u001b[0mfunc\u001b[0m\u001b[0;34m(\u001b[0m\u001b[0;34m*\u001b[0m\u001b[0margs\u001b[0m\u001b[0;34m,\u001b[0m \u001b[0;34m**\u001b[0m\u001b[0mkwargs\u001b[0m\u001b[0;34m)\u001b[0m\u001b[0;34m\u001b[0m\u001b[0;34m\u001b[0m\u001b[0m\n\u001b[0m\u001b[1;32m    312\u001b[0m \u001b[0;34m\u001b[0m\u001b[0m\n\u001b[1;32m    313\u001b[0m         \u001b[0;32mreturn\u001b[0m \u001b[0mwrapper\u001b[0m\u001b[0;34m\u001b[0m\u001b[0;34m\u001b[0m\u001b[0m\n",
            "\u001b[0;32m/usr/local/lib/python3.7/dist-packages/pandas/io/parsers/readers.py\u001b[0m in \u001b[0;36mread_csv\u001b[0;34m(filepath_or_buffer, sep, delimiter, header, names, index_col, usecols, squeeze, prefix, mangle_dupe_cols, dtype, engine, converters, true_values, false_values, skipinitialspace, skiprows, skipfooter, nrows, na_values, keep_default_na, na_filter, verbose, skip_blank_lines, parse_dates, infer_datetime_format, keep_date_col, date_parser, dayfirst, cache_dates, iterator, chunksize, compression, thousands, decimal, lineterminator, quotechar, quoting, doublequote, escapechar, comment, encoding, encoding_errors, dialect, error_bad_lines, warn_bad_lines, on_bad_lines, delim_whitespace, low_memory, memory_map, float_precision, storage_options)\u001b[0m\n\u001b[1;32m    584\u001b[0m     \u001b[0mkwds\u001b[0m\u001b[0;34m.\u001b[0m\u001b[0mupdate\u001b[0m\u001b[0;34m(\u001b[0m\u001b[0mkwds_defaults\u001b[0m\u001b[0;34m)\u001b[0m\u001b[0;34m\u001b[0m\u001b[0;34m\u001b[0m\u001b[0m\n\u001b[1;32m    585\u001b[0m \u001b[0;34m\u001b[0m\u001b[0m\n\u001b[0;32m--> 586\u001b[0;31m     \u001b[0;32mreturn\u001b[0m \u001b[0m_read\u001b[0m\u001b[0;34m(\u001b[0m\u001b[0mfilepath_or_buffer\u001b[0m\u001b[0;34m,\u001b[0m \u001b[0mkwds\u001b[0m\u001b[0;34m)\u001b[0m\u001b[0;34m\u001b[0m\u001b[0;34m\u001b[0m\u001b[0m\n\u001b[0m\u001b[1;32m    587\u001b[0m \u001b[0;34m\u001b[0m\u001b[0m\n\u001b[1;32m    588\u001b[0m \u001b[0;34m\u001b[0m\u001b[0m\n",
            "\u001b[0;32m/usr/local/lib/python3.7/dist-packages/pandas/io/parsers/readers.py\u001b[0m in \u001b[0;36m_read\u001b[0;34m(filepath_or_buffer, kwds)\u001b[0m\n\u001b[1;32m    480\u001b[0m \u001b[0;34m\u001b[0m\u001b[0m\n\u001b[1;32m    481\u001b[0m     \u001b[0;31m# Create the parser.\u001b[0m\u001b[0;34m\u001b[0m\u001b[0;34m\u001b[0m\u001b[0;34m\u001b[0m\u001b[0m\n\u001b[0;32m--> 482\u001b[0;31m     \u001b[0mparser\u001b[0m \u001b[0;34m=\u001b[0m \u001b[0mTextFileReader\u001b[0m\u001b[0;34m(\u001b[0m\u001b[0mfilepath_or_buffer\u001b[0m\u001b[0;34m,\u001b[0m \u001b[0;34m**\u001b[0m\u001b[0mkwds\u001b[0m\u001b[0;34m)\u001b[0m\u001b[0;34m\u001b[0m\u001b[0;34m\u001b[0m\u001b[0m\n\u001b[0m\u001b[1;32m    483\u001b[0m \u001b[0;34m\u001b[0m\u001b[0m\n\u001b[1;32m    484\u001b[0m     \u001b[0;32mif\u001b[0m \u001b[0mchunksize\u001b[0m \u001b[0;32mor\u001b[0m \u001b[0miterator\u001b[0m\u001b[0;34m:\u001b[0m\u001b[0;34m\u001b[0m\u001b[0;34m\u001b[0m\u001b[0m\n",
            "\u001b[0;32m/usr/local/lib/python3.7/dist-packages/pandas/io/parsers/readers.py\u001b[0m in \u001b[0;36m__init__\u001b[0;34m(self, f, engine, **kwds)\u001b[0m\n\u001b[1;32m    809\u001b[0m             \u001b[0mself\u001b[0m\u001b[0;34m.\u001b[0m\u001b[0moptions\u001b[0m\u001b[0;34m[\u001b[0m\u001b[0;34m\"has_index_names\"\u001b[0m\u001b[0;34m]\u001b[0m \u001b[0;34m=\u001b[0m \u001b[0mkwds\u001b[0m\u001b[0;34m[\u001b[0m\u001b[0;34m\"has_index_names\"\u001b[0m\u001b[0;34m]\u001b[0m\u001b[0;34m\u001b[0m\u001b[0;34m\u001b[0m\u001b[0m\n\u001b[1;32m    810\u001b[0m \u001b[0;34m\u001b[0m\u001b[0m\n\u001b[0;32m--> 811\u001b[0;31m         \u001b[0mself\u001b[0m\u001b[0;34m.\u001b[0m\u001b[0m_engine\u001b[0m \u001b[0;34m=\u001b[0m \u001b[0mself\u001b[0m\u001b[0;34m.\u001b[0m\u001b[0m_make_engine\u001b[0m\u001b[0;34m(\u001b[0m\u001b[0mself\u001b[0m\u001b[0;34m.\u001b[0m\u001b[0mengine\u001b[0m\u001b[0;34m)\u001b[0m\u001b[0;34m\u001b[0m\u001b[0;34m\u001b[0m\u001b[0m\n\u001b[0m\u001b[1;32m    812\u001b[0m \u001b[0;34m\u001b[0m\u001b[0m\n\u001b[1;32m    813\u001b[0m     \u001b[0;32mdef\u001b[0m \u001b[0mclose\u001b[0m\u001b[0;34m(\u001b[0m\u001b[0mself\u001b[0m\u001b[0;34m)\u001b[0m\u001b[0;34m:\u001b[0m\u001b[0;34m\u001b[0m\u001b[0;34m\u001b[0m\u001b[0m\n",
            "\u001b[0;32m/usr/local/lib/python3.7/dist-packages/pandas/io/parsers/readers.py\u001b[0m in \u001b[0;36m_make_engine\u001b[0;34m(self, engine)\u001b[0m\n\u001b[1;32m   1038\u001b[0m             )\n\u001b[1;32m   1039\u001b[0m         \u001b[0;31m# error: Too many arguments for \"ParserBase\"\u001b[0m\u001b[0;34m\u001b[0m\u001b[0;34m\u001b[0m\u001b[0;34m\u001b[0m\u001b[0m\n\u001b[0;32m-> 1040\u001b[0;31m         \u001b[0;32mreturn\u001b[0m \u001b[0mmapping\u001b[0m\u001b[0;34m[\u001b[0m\u001b[0mengine\u001b[0m\u001b[0;34m]\u001b[0m\u001b[0;34m(\u001b[0m\u001b[0mself\u001b[0m\u001b[0;34m.\u001b[0m\u001b[0mf\u001b[0m\u001b[0;34m,\u001b[0m \u001b[0;34m**\u001b[0m\u001b[0mself\u001b[0m\u001b[0;34m.\u001b[0m\u001b[0moptions\u001b[0m\u001b[0;34m)\u001b[0m  \u001b[0;31m# type: ignore[call-arg]\u001b[0m\u001b[0;34m\u001b[0m\u001b[0;34m\u001b[0m\u001b[0m\n\u001b[0m\u001b[1;32m   1041\u001b[0m \u001b[0;34m\u001b[0m\u001b[0m\n\u001b[1;32m   1042\u001b[0m     \u001b[0;32mdef\u001b[0m \u001b[0m_failover_to_python\u001b[0m\u001b[0;34m(\u001b[0m\u001b[0mself\u001b[0m\u001b[0;34m)\u001b[0m\u001b[0;34m:\u001b[0m\u001b[0;34m\u001b[0m\u001b[0;34m\u001b[0m\u001b[0m\n",
            "\u001b[0;32m/usr/local/lib/python3.7/dist-packages/pandas/io/parsers/c_parser_wrapper.py\u001b[0m in \u001b[0;36m__init__\u001b[0;34m(self, src, **kwds)\u001b[0m\n\u001b[1;32m     49\u001b[0m \u001b[0;34m\u001b[0m\u001b[0m\n\u001b[1;32m     50\u001b[0m         \u001b[0;31m# open handles\u001b[0m\u001b[0;34m\u001b[0m\u001b[0;34m\u001b[0m\u001b[0;34m\u001b[0m\u001b[0m\n\u001b[0;32m---> 51\u001b[0;31m         \u001b[0mself\u001b[0m\u001b[0;34m.\u001b[0m\u001b[0m_open_handles\u001b[0m\u001b[0;34m(\u001b[0m\u001b[0msrc\u001b[0m\u001b[0;34m,\u001b[0m \u001b[0mkwds\u001b[0m\u001b[0;34m)\u001b[0m\u001b[0;34m\u001b[0m\u001b[0;34m\u001b[0m\u001b[0m\n\u001b[0m\u001b[1;32m     52\u001b[0m         \u001b[0;32massert\u001b[0m \u001b[0mself\u001b[0m\u001b[0;34m.\u001b[0m\u001b[0mhandles\u001b[0m \u001b[0;32mis\u001b[0m \u001b[0;32mnot\u001b[0m \u001b[0;32mNone\u001b[0m\u001b[0;34m\u001b[0m\u001b[0;34m\u001b[0m\u001b[0m\n\u001b[1;32m     53\u001b[0m \u001b[0;34m\u001b[0m\u001b[0m\n",
            "\u001b[0;32m/usr/local/lib/python3.7/dist-packages/pandas/io/parsers/base_parser.py\u001b[0m in \u001b[0;36m_open_handles\u001b[0;34m(self, src, kwds)\u001b[0m\n\u001b[1;32m    227\u001b[0m             \u001b[0mmemory_map\u001b[0m\u001b[0;34m=\u001b[0m\u001b[0mkwds\u001b[0m\u001b[0;34m.\u001b[0m\u001b[0mget\u001b[0m\u001b[0;34m(\u001b[0m\u001b[0;34m\"memory_map\"\u001b[0m\u001b[0;34m,\u001b[0m \u001b[0;32mFalse\u001b[0m\u001b[0;34m)\u001b[0m\u001b[0;34m,\u001b[0m\u001b[0;34m\u001b[0m\u001b[0;34m\u001b[0m\u001b[0m\n\u001b[1;32m    228\u001b[0m             \u001b[0mstorage_options\u001b[0m\u001b[0;34m=\u001b[0m\u001b[0mkwds\u001b[0m\u001b[0;34m.\u001b[0m\u001b[0mget\u001b[0m\u001b[0;34m(\u001b[0m\u001b[0;34m\"storage_options\"\u001b[0m\u001b[0;34m,\u001b[0m \u001b[0;32mNone\u001b[0m\u001b[0;34m)\u001b[0m\u001b[0;34m,\u001b[0m\u001b[0;34m\u001b[0m\u001b[0;34m\u001b[0m\u001b[0m\n\u001b[0;32m--> 229\u001b[0;31m             \u001b[0merrors\u001b[0m\u001b[0;34m=\u001b[0m\u001b[0mkwds\u001b[0m\u001b[0;34m.\u001b[0m\u001b[0mget\u001b[0m\u001b[0;34m(\u001b[0m\u001b[0;34m\"encoding_errors\"\u001b[0m\u001b[0;34m,\u001b[0m \u001b[0;34m\"strict\"\u001b[0m\u001b[0;34m)\u001b[0m\u001b[0;34m,\u001b[0m\u001b[0;34m\u001b[0m\u001b[0;34m\u001b[0m\u001b[0m\n\u001b[0m\u001b[1;32m    230\u001b[0m         )\n\u001b[1;32m    231\u001b[0m \u001b[0;34m\u001b[0m\u001b[0m\n",
            "\u001b[0;32m/usr/local/lib/python3.7/dist-packages/pandas/io/common.py\u001b[0m in \u001b[0;36mget_handle\u001b[0;34m(path_or_buf, mode, encoding, compression, memory_map, is_text, errors, storage_options)\u001b[0m\n\u001b[1;32m    705\u001b[0m                 \u001b[0mencoding\u001b[0m\u001b[0;34m=\u001b[0m\u001b[0mioargs\u001b[0m\u001b[0;34m.\u001b[0m\u001b[0mencoding\u001b[0m\u001b[0;34m,\u001b[0m\u001b[0;34m\u001b[0m\u001b[0;34m\u001b[0m\u001b[0m\n\u001b[1;32m    706\u001b[0m                 \u001b[0merrors\u001b[0m\u001b[0;34m=\u001b[0m\u001b[0merrors\u001b[0m\u001b[0;34m,\u001b[0m\u001b[0;34m\u001b[0m\u001b[0;34m\u001b[0m\u001b[0m\n\u001b[0;32m--> 707\u001b[0;31m                 \u001b[0mnewline\u001b[0m\u001b[0;34m=\u001b[0m\u001b[0;34m\"\"\u001b[0m\u001b[0;34m,\u001b[0m\u001b[0;34m\u001b[0m\u001b[0;34m\u001b[0m\u001b[0m\n\u001b[0m\u001b[1;32m    708\u001b[0m             )\n\u001b[1;32m    709\u001b[0m         \u001b[0;32melse\u001b[0m\u001b[0;34m:\u001b[0m\u001b[0;34m\u001b[0m\u001b[0;34m\u001b[0m\u001b[0m\n",
            "\u001b[0;31mFileNotFoundError\u001b[0m: [Errno 2] No such file or directory: 'drive/MyDrive/copia de heart.csv'"
          ]
        }
      ]
    },
    {
      "cell_type": "markdown",
      "metadata": {
        "id": "xj6kvFMkXUEW"
      },
      "source": [
        "La última columna del conjunto de datos es \"target\". Que nos dice si la persona tiene una enfermedad cardíaca."
      ]
    },
    {
      "cell_type": "markdown",
      "metadata": {
        "id": "8eqRja46XUEW"
      },
      "source": [
        "La pregunta de investigación para esta sección es: “La proporción de la población de Irlanda que padece una enfermedad cardíaca es del 42%. ¿Hay más personas que padecen enfermedades cardíacas en los EE. UU. ”?"
      ]
    },
    {
      "cell_type": "markdown",
      "metadata": {
        "id": "NaVYQC4RXUEX"
      },
      "source": [
        "Vamos a intentar corroborar esta hipótesis paso por paso:"
      ]
    },
    {
      "cell_type": "markdown",
      "metadata": {
        "id": "dCJ29S7jXUEX"
      },
      "source": [
        "### Paso 1: Determinar la hipótesis nula y las hipótesis alternativas"
      ]
    },
    {
      "cell_type": "markdown",
      "metadata": {
        "id": "4_asetBiXUEX"
      },
      "source": [
        "En este problema, la hipótesis nula es que la proporción de la población que padece una enfermedad cardíaca en los EE. UU. sea menor o igual al 42%. Pero si probamos que sea igual, con eso tendremos para corroborar la hipótesis."
      ]
    },
    {
      "cell_type": "markdown",
      "metadata": {
        "id": "6ozmVvp9XUEX"
      },
      "source": [
        "Por lo tanto, podemos definir p0 como:"
      ]
    },
    {
      "cell_type": "markdown",
      "metadata": {
        "id": "QU-ZD9edXUEY"
      },
      "source": [
        "`\n",
        "H0 = 0.42  # Hipótesis nula\n",
        "`\n",
        "`H1 > 0.42  # Hipótesis alternativa\n",
        "`"
      ]
    },
    {
      "cell_type": "markdown",
      "metadata": {
        "id": "fEMVeKGfXUEY"
      },
      "source": [
        "Veamos si podemos hallar evidencia para refutar la hipótesis nula"
      ]
    },
    {
      "cell_type": "markdown",
      "metadata": {
        "id": "1fnnq3fGXUEY"
      },
      "source": [
        "### Paso 2: Calcular la proporción de la población que tiene una enfermedad cardiovascular"
      ]
    },
    {
      "cell_type": "markdown",
      "metadata": {
        "id": "njlw3FcnXUEY"
      },
      "source": [
        "Asuma que el dataset de más arriba es una muestra representativa de la población de Estados Unidos. Entonces, vamos a **calcular la proporción** de personas que de hecho tienen una enfermedad cardiovascular."
      ]
    },
    {
      "cell_type": "code",
      "metadata": {
        "id": "b2R90HixXUEZ",
        "colab": {
          "base_uri": "https://localhost:8080/",
          "height": 182
        },
        "outputId": "c8f703b6-ce40-4fe5-cf0d-db8732b8af80"
      },
      "source": [
        "p_us = len(df [df['target']])/len(df)\n",
        "p_us"
      ],
      "execution_count": null,
      "outputs": [
        {
          "output_type": "error",
          "ename": "NameError",
          "evalue": "ignored",
          "traceback": [
            "\u001b[0;31m---------------------------------------------------------------------------\u001b[0m",
            "\u001b[0;31mNameError\u001b[0m                                 Traceback (most recent call last)",
            "\u001b[0;32m<ipython-input-57-fcc94d83faef>\u001b[0m in \u001b[0;36m<module>\u001b[0;34m\u001b[0m\n\u001b[0;32m----> 1\u001b[0;31m \u001b[0mp_us\u001b[0m \u001b[0;34m=\u001b[0m \u001b[0mlen\u001b[0m\u001b[0;34m(\u001b[0m\u001b[0mdf\u001b[0m \u001b[0;34m[\u001b[0m\u001b[0mdf\u001b[0m\u001b[0;34m[\u001b[0m\u001b[0;34m'target'\u001b[0m\u001b[0;34m]\u001b[0m\u001b[0;34m]\u001b[0m\u001b[0;34m)\u001b[0m\u001b[0;34m/\u001b[0m\u001b[0mlen\u001b[0m\u001b[0;34m(\u001b[0m\u001b[0mdf\u001b[0m\u001b[0;34m)\u001b[0m\u001b[0;34m\u001b[0m\u001b[0;34m\u001b[0m\u001b[0m\n\u001b[0m\u001b[1;32m      2\u001b[0m \u001b[0mp_us\u001b[0m\u001b[0;34m\u001b[0m\u001b[0;34m\u001b[0m\u001b[0m\n",
            "\u001b[0;31mNameError\u001b[0m: name 'df' is not defined"
          ]
        }
      ]
    },
    {
      "cell_type": "markdown",
      "metadata": {
        "id": "K2d8Z6CkXUEZ"
      },
      "source": [
        "La **proporción de la población** de la muestra que **tiene enfermedad cardíaca** es 0,51 o **51%**. Este porcentaje es **mayor** que la **hipótesis nula**. Eso es 42%"
      ]
    },
    {
      "cell_type": "markdown",
      "metadata": {
        "id": "HnrQREMuXUEZ"
      },
      "source": [
        "Pero la pregunta es si es significativamente más del 42%. Si tomamos una muestra aleatoria simple diferente, la proporción de población observada actualmente (51%) puede ser diferente."
      ]
    },
    {
      "cell_type": "markdown",
      "metadata": {
        "id": "ouBRkr_dXUEa"
      },
      "source": [
        "Para averiguar si la proporción de población observada es significativamente mayor que la hipótesis nula, realice una prueba de hipótesis."
      ]
    },
    {
      "cell_type": "markdown",
      "metadata": {
        "id": "6qvdMS7aXUEa"
      },
      "source": [
        "### Paso 3: Calculando el test estadístico"
      ]
    },
    {
      "cell_type": "markdown",
      "metadata": {
        "id": "_yQEHm1UXUEa"
      },
      "source": [
        "Esta es la fórmula para el test estadístico"
      ]
    },
    {
      "cell_type": "markdown",
      "metadata": {
        "id": "KTXdiWrLXUEb"
      },
      "source": [
        "![image.png](data:image/png;base64,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)\n"
      ]
    },
    {
      "cell_type": "markdown",
      "metadata": {
        "id": "E1u65MZtXUEb"
      },
      "source": [
        "Utilizaremos esta fórmula para el error estándar"
      ]
    },
    {
      "cell_type": "markdown",
      "metadata": {
        "id": "c0QU54xXXUEb"
      },
      "source": [
        "![image.png](data:image/png;base64,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)"
      ]
    },
    {
      "cell_type": "markdown",
      "metadata": {
        "id": "xzSYJPMFXUEb"
      },
      "source": [
        "En esta fórmula, `p0` es 0,42 (según la hipótesis nula) y `n` es el tamaño de la población de la muestra. Ahora calcule el **error estándar** y las estadísticas de la prueba:"
      ]
    },
    {
      "cell_type": "code",
      "metadata": {
        "id": "rn0hIESxXUEb",
        "colab": {
          "base_uri": "https://localhost:8080/",
          "height": 182
        },
        "outputId": "93532366-29ac-4233-c794-1418957d5cb8"
      },
      "source": [
        "se = np.sqrt(0.42*  (1-0.42) / len(df))\n",
        "se"
      ],
      "execution_count": null,
      "outputs": [
        {
          "output_type": "error",
          "ename": "NameError",
          "evalue": "ignored",
          "traceback": [
            "\u001b[0;31m---------------------------------------------------------------------------\u001b[0m",
            "\u001b[0;31mNameError\u001b[0m                                 Traceback (most recent call last)",
            "\u001b[0;32m<ipython-input-58-25bb21fa4dca>\u001b[0m in \u001b[0;36m<module>\u001b[0;34m\u001b[0m\n\u001b[0;32m----> 1\u001b[0;31m \u001b[0mse\u001b[0m \u001b[0;34m=\u001b[0m \u001b[0mnp\u001b[0m\u001b[0;34m.\u001b[0m\u001b[0msqrt\u001b[0m\u001b[0;34m(\u001b[0m\u001b[0;36m0.42\u001b[0m\u001b[0;34m*\u001b[0m  \u001b[0;34m(\u001b[0m\u001b[0;36m1\u001b[0m\u001b[0;34m-\u001b[0m\u001b[0;36m0.42\u001b[0m\u001b[0;34m)\u001b[0m \u001b[0;34m/\u001b[0m \u001b[0mlen\u001b[0m\u001b[0;34m(\u001b[0m\u001b[0mdf\u001b[0m\u001b[0;34m)\u001b[0m\u001b[0;34m)\u001b[0m\u001b[0;34m\u001b[0m\u001b[0;34m\u001b[0m\u001b[0m\n\u001b[0m\u001b[1;32m      2\u001b[0m \u001b[0mse\u001b[0m\u001b[0;34m\u001b[0m\u001b[0;34m\u001b[0m\u001b[0m\n",
            "\u001b[0;31mNameError\u001b[0m: name 'df' is not defined"
          ]
        }
      ]
    },
    {
      "cell_type": "markdown",
      "metadata": {
        "id": "tcuv6RXUXUEc"
      },
      "source": [
        "Encuentre las **estadísticas de prueba** utilizando la fórmula para la estadística de prueba anterior:"
      ]
    },
    {
      "cell_type": "code",
      "metadata": {
        "id": "9Hh-ApibXUEc",
        "colab": {
          "base_uri": "https://localhost:8080/",
          "height": 235
        },
        "outputId": "daae48c7-598b-4497-faf5-be6bfe773b3d"
      },
      "source": [
        "be = p_us\n",
        "he = 0.42\n",
        "\n",
        "test_stat = (be-he) / se\n",
        "test_stat"
      ],
      "execution_count": null,
      "outputs": [
        {
          "output_type": "error",
          "ename": "NameError",
          "evalue": "ignored",
          "traceback": [
            "\u001b[0;31m---------------------------------------------------------------------------\u001b[0m",
            "\u001b[0;31mNameError\u001b[0m                                 Traceback (most recent call last)",
            "\u001b[0;32m<ipython-input-59-08f2e5eeb95e>\u001b[0m in \u001b[0;36m<module>\u001b[0;34m\u001b[0m\n\u001b[0;32m----> 1\u001b[0;31m \u001b[0mbe\u001b[0m \u001b[0;34m=\u001b[0m \u001b[0mp_us\u001b[0m\u001b[0;34m\u001b[0m\u001b[0;34m\u001b[0m\u001b[0m\n\u001b[0m\u001b[1;32m      2\u001b[0m \u001b[0mhe\u001b[0m \u001b[0;34m=\u001b[0m \u001b[0;36m0.42\u001b[0m\u001b[0;34m\u001b[0m\u001b[0;34m\u001b[0m\u001b[0m\n\u001b[1;32m      3\u001b[0m \u001b[0;34m\u001b[0m\u001b[0m\n\u001b[1;32m      4\u001b[0m \u001b[0mtest_stat\u001b[0m \u001b[0;34m=\u001b[0m \u001b[0;34m(\u001b[0m\u001b[0mbe\u001b[0m\u001b[0;34m-\u001b[0m\u001b[0mhe\u001b[0m\u001b[0;34m)\u001b[0m \u001b[0;34m/\u001b[0m \u001b[0mse\u001b[0m\u001b[0;34m\u001b[0m\u001b[0;34m\u001b[0m\u001b[0m\n\u001b[1;32m      5\u001b[0m \u001b[0mtest_stat\u001b[0m\u001b[0;34m\u001b[0m\u001b[0;34m\u001b[0m\u001b[0m\n",
            "\u001b[0;31mNameError\u001b[0m: name 'p_us' is not defined"
          ]
        }
      ]
    },
    {
      "cell_type": "markdown",
      "metadata": {
        "id": "kGLDRSrtXUEf"
      },
      "source": [
        "### Paso 4: Calcule el valor p"
      ]
    },
    {
      "cell_type": "markdown",
      "metadata": {
        "id": "NdwRAS3JXUEf"
      },
      "source": [
        "Esta estadística de prueba también se llama puntuación z. Puede encontrar el valor p de una z_table o puede encontrar el valor p de esta fórmula en Python."
      ]
    },
    {
      "cell_type": "code",
      "metadata": {
        "id": "jT1jYsZ4XUEf"
      },
      "source": [],
      "execution_count": null,
      "outputs": []
    },
    {
      "cell_type": "markdown",
      "metadata": {
        "id": "bFPYH1HmXUEg"
      },
      "source": [
        "### Paso 5: inferir la conclusión del valor p"
      ]
    },
    {
      "cell_type": "markdown",
      "metadata": {
        "id": "Bj_ZMMjIXUEg"
      },
      "source": [
        "Considere que el nivel de significancia alfa es 5% o 0.05. Un nivel de significancia del 5% o menos significa que existe una probabilidad del 95% o más de que los resultados no sean aleatorios."
      ]
    },
    {
      "cell_type": "markdown",
      "metadata": {
        "id": "ytj5F2WzXUEg"
      },
      "source": [
        "Aquí el valor p es menor que nuestro nivel de significancia considerado 0.05. Entonces, podemos rechazar la hipótesis nula. Eso significa que sí hay una diferencia significativa en la proporción de la población que padece una enfermedad cardíaca en EE.UU con respecto de Irlanda."
      ]
    },
    {
      "cell_type": "markdown",
      "metadata": {
        "id": "q8Ki-_1yXUEh"
      },
      "source": [
        "## Pruebas de hipótesis para dos diferentes muestras"
      ]
    },
    {
      "cell_type": "markdown",
      "metadata": {
        "id": "D1mu98g5XUEh"
      },
      "source": [
        "Las pruebas comparativas se realizan con mucha más frecuencia que una prueba de hipótesis de una sola muestra de la población."
      ]
    },
    {
      "cell_type": "markdown",
      "metadata": {
        "id": "R47_wx-hXUEh"
      },
      "source": [
        "Se realiza una prueba de proporciones de dos muestras para evaluar si la proporción poblacional de algunos rasgos difiere entre dos subgrupos."
      ]
    },
    {
      "cell_type": "markdown",
      "metadata": {
        "id": "ja4xDJirXUEh"
      },
      "source": [
        "### Paso 1: Determinar la hipótesis nula, la hipótesis alternativa y el nivel significativo (alfa)"
      ]
    },
    {
      "cell_type": "markdown",
      "metadata": {
        "id": "D-AP5lm3XUEi"
      },
      "source": [
        "Aquí, queremos comprobar si existe alguna diferencia entre la proporción de la población de hombres y mujeres que padecen enfermedades cardíacas. Comenzaremos con el supuesto de que no hay diferencia."
      ]
    },
    {
      "cell_type": "markdown",
      "metadata": {
        "id": "tkRY2q1_XUEi"
      },
      "source": [
        "`H0: p1 - p2 = 0  # Hipótesis nula`"
      ]
    },
    {
      "cell_type": "markdown",
      "metadata": {
        "id": "k3io3TQ7XUEi"
      },
      "source": [
        "Esta es nuestra hipótesis nula. Aquí, p1 es la proporción de la población de mujeres con enfermedades cardíacas y p2 es la proporción de la población de hombres que tienen una enfermedad cardíaca."
      ]
    },
    {
      "cell_type": "markdown",
      "metadata": {
        "id": "vj2jUJWoXUEi"
      },
      "source": [
        "¿Cuál podría ser la hipótesis alternativa?"
      ]
    },
    {
      "cell_type": "markdown",
      "metadata": {
        "id": "QpWd3ipwXUEi"
      },
      "source": [
        "La hipótesis alternativa puede ser, hay una diferencia."
      ]
    },
    {
      "cell_type": "markdown",
      "metadata": {
        "id": "gQdTpcl3XUEj"
      },
      "source": [
        "`H1: p1 - p2 != 0  # Hipótesis alternativa`"
      ]
    },
    {
      "cell_type": "markdown",
      "metadata": {
        "id": "nEej9bSrXUEj"
      },
      "source": [
        "Usemos el nivel de significancia de 0.1 o 10%."
      ]
    },
    {
      "cell_type": "markdown",
      "metadata": {
        "id": "GuJsvmX_XUEj"
      },
      "source": [
        "### Paso 2: Generar una visualización que muestre la proporción de la población de hombres y mujeres con enfermedades cardíacas y la población total de hombres y mujeres."
      ]
    },
    {
      "cell_type": "code",
      "metadata": {
        "id": "NpSQi7GKXUEj"
      },
      "source": [],
      "execution_count": null,
      "outputs": []
    },
    {
      "cell_type": "markdown",
      "metadata": {
        "id": "eDuD3O1QXUEk"
      },
      "source": [
        "### Paso 3: Calcule la estadística de prueba"
      ]
    },
    {
      "cell_type": "markdown",
      "metadata": {
        "id": "YRK-mzFwXUEk"
      },
      "source": [
        "Usaremos la misma fórmula para la prueba estadística de antes. La mejor estimación es p1 - p2. Aquí, p1 es la proporción poblacional de mujeres con enfermedades cardíacas y p2 es la proporción poblacional de hombres con enfermedades cardíacas."
      ]
    },
    {
      "cell_type": "code",
      "metadata": {
        "id": "7pvkGpYmXUEk"
      },
      "source": [],
      "execution_count": null,
      "outputs": []
    },
    {
      "cell_type": "markdown",
      "metadata": {
        "id": "igviW8yXXUEl"
      },
      "source": [
        "El error estándar para la proporción de dos poblaciones se calcula con la siguiente fórmula:"
      ]
    },
    {
      "cell_type": "markdown",
      "metadata": {
        "id": "dQHJVg30XUEl"
      },
      "source": [
        "![image.png](data:image/png;base64,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)"
      ]
    },
    {
      "cell_type": "markdown",
      "metadata": {
        "id": "ze7wbU8-XUEl"
      },
      "source": [
        "Aquí, p es la proporción de la población total en la muestra con enfermedad cardíaca. n1 y n2 son los números totales de las poblaciones femenina y masculina de la muestra."
      ]
    },
    {
      "cell_type": "code",
      "source": [],
      "metadata": {
        "id": "Gu33NOhvdqDn"
      },
      "execution_count": null,
      "outputs": []
    },
    {
      "cell_type": "markdown",
      "metadata": {
        "id": "XpsQZX-1XUEm"
      },
      "source": [
        "Ahora, use este error estándar y calcule la estadística de prueba."
      ]
    },
    {
      "cell_type": "code",
      "source": [],
      "metadata": {
        "id": "V9xPEzRPdpJj"
      },
      "execution_count": null,
      "outputs": []
    },
    {
      "cell_type": "markdown",
      "metadata": {
        "id": "AECVXU8ZXUEp"
      },
      "source": [
        "El test_statistic calculado es 8.9483. Eso significa que la diferencia observada en las proporciones de la muestra es 8.948 error estándar estimado por encima del valor hipotetizado."
      ]
    },
    {
      "cell_type": "markdown",
      "metadata": {
        "id": "f-Ede1ATXUEp"
      },
      "source": [
        "### Paso 4: Calcule el valor p"
      ]
    },
    {
      "cell_type": "code",
      "source": [],
      "metadata": {
        "id": "mt7ecQBndrdE"
      },
      "execution_count": null,
      "outputs": []
    },
    {
      "cell_type": "markdown",
      "metadata": {
        "id": "RMxsgzTnXUEs"
      },
      "source": [
        "EL valor de p es tremendamente chico. Eso significa que es muy poco probable que los resultados que observemos sean verdaderos considerando que la hipótesis nula es verdadera."
      ]
    },
    {
      "cell_type": "markdown",
      "metadata": {
        "id": "fH1H42RSXUEs"
      },
      "source": [
        "Por otro lado, el valor p no es mayor que el nivel de significancia (0.1). Entonces, tenemos suficiente evidencia para rechazar la hipótesis nula."
      ]
    },
    {
      "cell_type": "markdown",
      "metadata": {
        "id": "730_BsM3XUEs"
      },
      "source": [
        "La proporción de la población de hombres con enfermedades del corazón es significativamente diferente de la proporción de la población de mujeres con enfermedades del corazón."
      ]
    }
  ]
}